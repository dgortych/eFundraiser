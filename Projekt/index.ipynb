{
 "cells": [
  {
   "cell_type": "markdown",
   "metadata": {},
   "source": [
    "# PHP 2021"
   ]
  },
  {
   "cell_type": "markdown",
   "metadata": {},
   "source": [
    "## Projekt"
   ]
  },
  {
   "cell_type": "markdown",
   "metadata": {},
   "source": [
    "Start database:"
   ]
  },
  {
   "cell_type": "code",
   "execution_count": 1,
   "metadata": {},
   "outputs": [
    {
     "name": "stdout",
     "output_type": "stream",
     "text": [
      "cc74832d998d8d53b2a8e25722936f00b83a7db9a746ebdc21fe2fc196665cdb\r\n"
     ]
    }
   ],
   "source": [
    "! sudo docker run --name=mysql --net=host --rm --env MYSQL_ROOT_PASSWORD=root123 --env MYSQL_ROOT_HOST=% --env MYSQL_DATABASE=test --env MYSQL_USER=test --env MYSQL_PASSWORD=test123 -d mysql/mysql-server:8.0"
   ]
  },
  {
   "cell_type": "code",
   "execution_count": 2,
   "metadata": {},
   "outputs": [
    {
     "name": "stdout",
     "output_type": "stream",
     "text": [
      "Done.\r\n"
     ]
    }
   ],
   "source": [
    "! while ! timeout 1 bash -c \"echo > /dev/tcp/localhost/3306\" 2> /dev/null; do sleep 1; done; echo \"Done.\";"
   ]
  },
  {
   "cell_type": "markdown",
   "metadata": {},
   "source": [
    "Edit the code:"
   ]
  },
  {
   "cell_type": "markdown",
   "metadata": {},
   "source": [
    "You can test your solution using included tests:"
   ]
  },
  {
   "cell_type": "code",
   "execution_count": 3,
   "metadata": {},
   "outputs": [
    {
     "name": "stdout",
     "output_type": "stream",
     "text": [
      "/home/student/Projekcik/Projekt/project\n"
     ]
    }
   ],
   "source": [
    "%cd project"
   ]
  },
  {
   "cell_type": "code",
   "execution_count": 4,
   "metadata": {},
   "outputs": [
    {
     "name": "stdout",
     "output_type": "stream",
     "text": [
      "\u001b[32mInstalling dependencies from lock file (including require-dev)\u001b[39m\n",
      "\u001b[32mVerifying lock file contents can be installed on current platform.\u001b[39m\n",
      "Nothing to install, update or remove\n",
      "\u001b[30;43mPackage swiftmailer/swiftmailer is abandoned, you should avoid using it. Use symfony/mailer instead.\u001b[39;49m\n",
      "\u001b[32mGenerating optimized autoload files\u001b[39m\n",
      "> Illuminate\\Foundation\\ComposerScripts::postAutoloadDump\n",
      "> @php artisan package:discover --ansi\n",
      "Discovered Package: \u001b[32mfacade/ignition\u001b[39m\n",
      "Discovered Package: \u001b[32mfruitcake/laravel-cors\u001b[39m\n",
      "Discovered Package: \u001b[32mlaravel/breeze\u001b[39m\n",
      "Discovered Package: \u001b[32mlaravel/sail\u001b[39m\n",
      "Discovered Package: \u001b[32mlaravel/sanctum\u001b[39m\n",
      "Discovered Package: \u001b[32mlaravel/tinker\u001b[39m\n",
      "Discovered Package: \u001b[32mnesbot/carbon\u001b[39m\n",
      "Discovered Package: \u001b[32mnunomaduro/collision\u001b[39m\n",
      "\u001b[32mPackage manifest generated successfully.\u001b[39m\n",
      "\u001b[32m81 packages you are using are looking for funding.\u001b[39m\n",
      "\u001b[32mUse the `composer fund` command to find out more!\u001b[39m\n"
     ]
    }
   ],
   "source": [
    "! composer install"
   ]
  },
  {
   "cell_type": "code",
   "execution_count": 5,
   "metadata": {},
   "outputs": [],
   "source": [
    "! cp .env.example .env"
   ]
  },
  {
   "cell_type": "code",
   "execution_count": 6,
   "metadata": {},
   "outputs": [
    {
     "name": "stdout",
     "output_type": "stream",
     "text": [
      "\u001b[32mApplication key set successfully.\u001b[39m\r\n"
     ]
    }
   ],
   "source": [
    "! php artisan key:generate"
   ]
  },
  {
   "cell_type": "code",
   "execution_count": 7,
   "metadata": {},
   "outputs": [
    {
     "name": "stdout",
     "output_type": "stream",
     "text": [
      "\u001b[32mDropped all tables successfully.\u001b[39m\n",
      "\u001b[32mMigration table created successfully.\u001b[39m\n",
      "\u001b[33mMigrating:\u001b[39m 2014_10_12_000000_create_users_table\n",
      "\u001b[32mMigrated:\u001b[39m  2014_10_12_000000_create_users_table (78.46ms)\n",
      "\u001b[33mMigrating:\u001b[39m 2014_10_12_100000_create_password_resets_table\n",
      "\u001b[32mMigrated:\u001b[39m  2014_10_12_100000_create_password_resets_table (61.70ms)\n",
      "\u001b[33mMigrating:\u001b[39m 2019_08_19_000000_create_failed_jobs_table\n",
      "\u001b[32mMigrated:\u001b[39m  2019_08_19_000000_create_failed_jobs_table (65.32ms)\n",
      "\u001b[33mMigrating:\u001b[39m 2019_12_14_000001_create_personal_access_tokens_table\n",
      "\u001b[32mMigrated:\u001b[39m  2019_12_14_000001_create_personal_access_tokens_table (153.16ms)\n"
     ]
    }
   ],
   "source": [
    "! php artisan migrate:fresh"
   ]
  },
  {
   "cell_type": "code",
   "execution_count": 8,
   "metadata": {},
   "outputs": [
    {
     "name": "stdout",
     "output_type": "stream",
     "text": [
      "\u001b[33mSeeding:\u001b[39m Database\\Seeders\\UserSeeder\n",
      "\u001b[32mSeeded:\u001b[39m  Database\\Seeders\\UserSeeder (106.08ms)\n",
      "\u001b[32mDatabase seeding completed successfully.\u001b[39m\n"
     ]
    }
   ],
   "source": [
    "! php artisan db:seed"
   ]
  },
  {
   "cell_type": "code",
   "execution_count": 9,
   "metadata": {},
   "outputs": [
    {
     "name": "stdout",
     "output_type": "stream",
     "text": [
      "mysqldump: [Warning] Using a password on the command line interface can be insecure.\r\n"
     ]
    }
   ],
   "source": [
    "! mysqldump -h127.0.0.1 -u root --password=root123 test > tests_codeception/_data/dump.sql"
   ]
  },
  {
   "cell_type": "code",
   "execution_count": 10,
   "metadata": {},
   "outputs": [
    {
     "name": "stdout",
     "output_type": "stream",
     "text": [
      "Starting Laravel development server: http://127.0.0.1:8888\n",
      "[Sat Jan  8 21:36:55 2022] PHP 8.0.10 Development Server (http://127.0.0.1:8888) started\n"
     ]
    }
   ],
   "source": [
    "import subprocess\n",
    "artisanServe = subprocess.Popen(['php', 'artisan', 'serve', '--port', '8888'])"
   ]
  },
  {
   "cell_type": "code",
   "execution_count": 11,
   "metadata": {
    "scrolled": false
   },
   "outputs": [
    {
     "name": "stdout",
     "output_type": "stream",
     "text": [
      "Codeception PHP Testing Framework v4.1.22\n",
      "Powered by PHPUnit 9.5.10 by Sebastian Bergmann and contributors.\n",
      "\n",
      "\u001b[1mAcceptance Tests (1) \u001b[22m-----------------------------------------------------------\n",
      "- \u001b[35;1mLoginCept:\u001b[39;22m Login with existing user[Sat Jan  8 21:36:59 2022] 127.0.0.1:46520 Accepted\n",
      "[Sat Jan  8 21:37:00 2022] 127.0.0.1:46520 Closing\n",
      "[Sat Jan  8 21:37:00 2022] 127.0.0.1:46524 Accepted\n",
      "[Sat Jan  8 21:37:00 2022] 127.0.0.1:46524 Closing\n",
      "[Sat Jan  8 21:37:00 2022] 127.0.0.1:46528 Accepted\n",
      "\u001b[32;1m✔\u001b[39;22m \u001b[35;1mLoginCept:\u001b[39;22m Login with existing user \u001b[32m(0.83s)\u001b[39m\n",
      "--------------------------------------------------------------------------------\n",
      "\u001b[33m3x DEPRECATION: \u001b[39m\u001b[1mSince symfony/dom-crawler 5.3: The Symfony\\Component\\DomCrawler\\Crawler::parents() method is deprecated, use ancestors() instead.\u001b[22m\u001b[33m \u001b[39m\u001b[32m/home/student/Projekcik/Projekt/project/vendor/symfony/deprecation-contracts/function.php:25\u001b[39m\n",
      "\n",
      "\n",
      "Time: 00:01.655, Memory: 14.00 MB\n",
      "\n",
      "\u001b[30;42mOK (1 test, 4 assertions)\u001b[0m\n",
      "[Sat Jan  8 21:37:00 2022] 127.0.0.1:46528 Closing\n",
      "[Sat Jan  8 21:37:00 2022] 127.0.0.1:46534 Accepted\n",
      "[Sat Jan  8 21:37:00 2022] 127.0.0.1:46534 Closing\n"
     ]
    }
   ],
   "source": [
    "! vendor/bin/codecept run"
   ]
  },
  {
   "cell_type": "code",
   "execution_count": 12,
   "metadata": {},
   "outputs": [],
   "source": [
    "! killall php php8.0"
   ]
  },
  {
   "cell_type": "code",
   "execution_count": 13,
   "metadata": {},
   "outputs": [
    {
     "name": "stdout",
     "output_type": "stream",
     "text": [
      "/home/student/Projekcik/Projekt\n"
     ]
    }
   ],
   "source": [
    "%cd .."
   ]
  },
  {
   "cell_type": "code",
   "execution_count": null,
   "metadata": {},
   "outputs": [
    {
     "name": "stdout",
     "output_type": "stream",
     "text": [
      "\n",
      "(java:94): dbind-\u001b[1;33mWARNING\u001b[0m **: \u001b[34m21:47:18.884\u001b[0m: Couldn't connect to accessibility bus: Failed to connect to socket /tmp/dbus-3Vc4yAeAUW: No such file or directory\n",
      "2022-01-08 21:47:26,605 [   8196]   WARN - l.NotificationGroupManagerImpl - Notification group CodeWithMe is already registered (group=com.intellij.notification.NotificationGroup@c35172e). Plugin descriptor: PluginDescriptor(name=Code With Me, id=com.jetbrains.codeWithMe, descriptorPath=plugin.xml, path=/opt/PhpStorm-212.5080.71/plugins/cwm-plugin, version=212.5080.71, package=null) \n",
      "2022-01-08 21:47:32,851 [  14442]   WARN - ctionSystem.impl.ActionUpdater - 1795 ms to expand group child OpenFile \n",
      "2022-01-08 21:47:36,752 [  18343]   WARN - pl.local.NativeFileWatcherImpl - table error: collision at 3623 (new /home/student/Projekcik/.env/home/cache/JetBrains/PhpStorm2021.2/javascript/typings/lodash/4.14.178, existing /home/student/.cache/JetBrains/PhpStorm2021.2/javascript/typings/lodash/4.14.178) \n",
      "2022-01-08 21:47:36,774 [  18365]   WARN - pl.local.NativeFileWatcherImpl - Watcher terminated with exit code 3 \n",
      "[JetBrains Runtime] Detected slow X11, switched off alpha compositing of images. Control with -Dremote.x11.workaround={true|false|auto}.\n",
      "2022-01-08 21:47:36,979 [  18570]   WARN - pl.local.NativeFileWatcherImpl - table error: collision at 2 (new /home/student/Projekcik/.env/home/cache/JetBrains/PhpStorm2021.2/javascript/typings/lodash/4.14.178, existing /home/student/.cache/JetBrains/PhpStorm2021.2/javascript/typings/lodash/4.14.178) \n",
      "2022-01-08 21:47:37,041 [  18632]   WARN - pl.local.NativeFileWatcherImpl - Watcher terminated with exit code 3 \n",
      "2022-01-08 21:47:37,337 [  18928]   WARN - pl.local.NativeFileWatcherImpl - table error: collision at 2 (new /home/student/Projekcik/.env/home/cache/JetBrains/PhpStorm2021.2/javascript/typings/lodash/4.14.178, existing /home/student/.cache/JetBrains/PhpStorm2021.2/javascript/typings/lodash/4.14.178) \n",
      "2022-01-08 21:47:37,383 [  18974]   WARN - pl.local.NativeFileWatcherImpl - Watcher terminated with exit code 3 \n",
      "2022-01-08 21:47:37,749 [  19340]   WARN - pl.local.NativeFileWatcherImpl - table error: collision at 2 (new /home/student/Projekcik/.env/home/cache/JetBrains/PhpStorm2021.2/javascript/typings/lodash/4.14.178, existing /home/student/.cache/JetBrains/PhpStorm2021.2/javascript/typings/lodash/4.14.178) \n",
      "2022-01-08 21:47:37,768 [  19359]   WARN - pl.local.NativeFileWatcherImpl - Watcher terminated with exit code 3 \n",
      "2022-01-08 21:47:38,060 [  19651]   WARN - pl.local.NativeFileWatcherImpl - table error: collision at 2 (new /home/student/Projekcik/.env/home/cache/JetBrains/PhpStorm2021.2/javascript/typings/lodash/4.14.178, existing /home/student/.cache/JetBrains/PhpStorm2021.2/javascript/typings/lodash/4.14.178) \n",
      "2022-01-08 21:47:38,095 [  19686]   WARN - pl.local.NativeFileWatcherImpl - Watcher terminated with exit code 3 \n",
      "2022-01-08 21:47:38,294 [  19885]   WARN - pl.local.NativeFileWatcherImpl - table error: collision at 2 (new /home/student/Projekcik/.env/home/cache/JetBrains/PhpStorm2021.2/javascript/typings/lodash/4.14.178, existing /home/student/.cache/JetBrains/PhpStorm2021.2/javascript/typings/lodash/4.14.178) \n",
      "2022-01-08 21:47:38,316 [  19907]   WARN - pl.local.NativeFileWatcherImpl - Watcher terminated with exit code 3 \n",
      "2022-01-08 21:47:38,524 [  20115]   WARN - pl.local.NativeFileWatcherImpl - table error: collision at 2 (new /home/student/Projekcik/.env/home/cache/JetBrains/PhpStorm2021.2/javascript/typings/lodash/4.14.178, existing /home/student/.cache/JetBrains/PhpStorm2021.2/javascript/typings/lodash/4.14.178) \n",
      "2022-01-08 21:47:38,557 [  20148]   WARN - pl.local.NativeFileWatcherImpl - Watcher terminated with exit code 3 \n",
      "2022-01-08 21:47:38,863 [  20454]   WARN - pl.local.NativeFileWatcherImpl - table error: collision at 2 (new /home/student/Projekcik/.env/home/cache/JetBrains/PhpStorm2021.2/javascript/typings/lodash/4.14.178, existing /home/student/.cache/JetBrains/PhpStorm2021.2/javascript/typings/lodash/4.14.178) \n",
      "2022-01-08 21:47:38,968 [  20559]   WARN - pl.local.NativeFileWatcherImpl - Watcher terminated with exit code 3 \n",
      "2022-01-08 21:47:39,289 [  20880]   WARN - pl.local.NativeFileWatcherImpl - table error: collision at 2 (new /home/student/Projekcik/.env/home/cache/JetBrains/PhpStorm2021.2/javascript/typings/lodash/4.14.178, existing /home/student/.cache/JetBrains/PhpStorm2021.2/javascript/typings/lodash/4.14.178) \n",
      "2022-01-08 21:47:39,351 [  20942]   WARN - pl.local.NativeFileWatcherImpl - Watcher terminated with exit code 3 \n",
      "2022-01-08 21:47:39,490 [  21081]   WARN - ctionSystem.impl.ActionUpdater - 2788 ms to expand group child CWMTelephonyGroup \n",
      "2022-01-08 21:47:39,491 [  21082]   WARN - ctionSystem.impl.ActionUpdater - 2789 ms to expand group child CodeWithMeNavbarGroup \n",
      "2022-01-08 21:47:39,622 [  21213]   WARN - pl.local.NativeFileWatcherImpl - table error: collision at 2 (new /home/student/Projekcik/.env/home/cache/JetBrains/PhpStorm2021.2/javascript/typings/lodash/4.14.178, existing /home/student/.cache/JetBrains/PhpStorm2021.2/javascript/typings/lodash/4.14.178) \n",
      "2022-01-08 21:47:39,671 [  21262]   WARN - pl.local.NativeFileWatcherImpl - Watcher terminated with exit code 3 \n",
      "2022-01-08 21:47:39,671 [  21262]   WARN - api.vfs.impl.local.FileWatcher - File watcher failed repeatedly and has been disabled \n",
      "2022-01-08 21:47:39,882 [  21473]   WARN - com.intellij.util.xmlb.Binding - no accessors for com.jetbrains.php.testFramework.PhpTestFrameworkType \n",
      "2022-01-08 21:49:28,846 [ 130437]  ERROR - terminal.emulator.JediEmulator - Unhandled Control sequence\n",
      "parsed                        :ESC[?2004h\n",
      "bytes read                    :ESC[ \n",
      "2022-01-08 21:49:39,950 [ 141541]  ERROR - terminal.emulator.JediEmulator - Unhandled Control sequence\n",
      "parsed                        :ESC[?2004l\n",
      "bytes read                    :ESC[ \n",
      "2022-01-08 21:50:11,224 [ 172815]   WARN -    #com.jetbrains.php.PhpIndex - Completing type '#F\\view' took 1192ms, visited:[#F\\view] \n",
      "2022-01-08 21:50:26,026 [ 187617]   WARN - ctionSystem.impl.ActionUpdater - Slow (139 ms) `com.intellij.ide.fileTemplates.actions.CreateFromTemplateGroup#update`. Consider speeding it up and/or implementing UpdateInBackground. \n"
     ]
    }
   ],
   "source": [
    "! phpstorm project"
   ]
  },
  {
   "cell_type": "markdown",
   "metadata": {},
   "source": [
    "Stop database:"
   ]
  },
  {
   "cell_type": "code",
   "execution_count": 16,
   "metadata": {},
   "outputs": [
    {
     "name": "stdout",
     "output_type": "stream",
     "text": [
      "mysql\r\n"
     ]
    }
   ],
   "source": [
    "! sudo docker container stop mysql"
   ]
  },
  {
   "cell_type": "code",
   "execution_count": null,
   "metadata": {},
   "outputs": [],
   "source": []
  }
 ],
 "metadata": {
  "kernelspec": {
   "display_name": "Python 3 (ipykernel)",
   "language": "python",
   "name": "python3"
  },
  "language_info": {
   "codemirror_mode": {
    "name": "ipython",
    "version": 3
   },
   "file_extension": ".py",
   "mimetype": "text/x-python",
   "name": "python",
   "nbconvert_exporter": "python",
   "pygments_lexer": "ipython3",
   "version": "3.9.5"
  }
 },
 "nbformat": 4,
 "nbformat_minor": 4
}
