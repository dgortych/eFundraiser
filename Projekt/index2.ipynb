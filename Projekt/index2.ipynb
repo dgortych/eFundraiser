{
 "cells": [
  {
   "cell_type": "markdown",
   "metadata": {},
   "source": [
    "# PHP 2021"
   ]
  },
  {
   "cell_type": "markdown",
   "metadata": {},
   "source": [
    "## Projekt"
   ]
  },
  {
   "cell_type": "code",
   "execution_count": 2,
   "metadata": {},
   "outputs": [
    {
     "name": "stdout",
     "output_type": "stream",
     "text": [
      "7e88b0594575389eb8556f50cfd45585fba4c3a1df17428ce5262319dceed3f3\n",
      "Done.\n",
      "/home/student/Projekcik/Projekt/project\n",
      "\u001b[32mInstalling dependencies from lock file (including require-dev)\u001b[39m\n",
      "\u001b[32mVerifying lock file contents can be installed on current platform.\u001b[39m\n",
      "Nothing to install, update or remove\n",
      "\u001b[30;43mPackage swiftmailer/swiftmailer is abandoned, you should avoid using it. Use symfony/mailer instead.\u001b[39;49m\n",
      "\u001b[32mGenerating optimized autoload files\u001b[39m\n",
      "> Illuminate\\Foundation\\ComposerScripts::postAutoloadDump\n",
      "> @php artisan package:discover --ansi\n",
      "Discovered Package: \u001b[32mfacade/ignition\u001b[39m\n",
      "Discovered Package: \u001b[32mfruitcake/laravel-cors\u001b[39m\n",
      "Discovered Package: \u001b[32mlaravel/breeze\u001b[39m\n",
      "Discovered Package: \u001b[32mlaravel/sail\u001b[39m\n",
      "Discovered Package: \u001b[32mlaravel/sanctum\u001b[39m\n",
      "Discovered Package: \u001b[32mlaravel/tinker\u001b[39m\n",
      "Discovered Package: \u001b[32mnesbot/carbon\u001b[39m\n",
      "Discovered Package: \u001b[32mnunomaduro/collision\u001b[39m\n",
      "\u001b[32mPackage manifest generated successfully.\u001b[39m\n",
      "\u001b[32m81 packages you are using are looking for funding.\u001b[39m\n",
      "\u001b[32mUse the `composer fund` command to find out more!\u001b[39m\n",
      "\u001b[32mApplication key set successfully.\u001b[39m\n",
      "\u001b[32mDropped all tables successfully.\u001b[39m\n",
      "\u001b[32mMigration table created successfully.\u001b[39m\n",
      "\u001b[33mMigrating:\u001b[39m 2014_10_12_000000_create_users_table\n",
      "\u001b[32mMigrated:\u001b[39m  2014_10_12_000000_create_users_table (40.63ms)\n",
      "\u001b[33mMigrating:\u001b[39m 2014_10_12_100000_create_password_resets_table\n",
      "\u001b[32mMigrated:\u001b[39m  2014_10_12_100000_create_password_resets_table (48.44ms)\n",
      "\u001b[33mMigrating:\u001b[39m 2019_08_19_000000_create_failed_jobs_table\n",
      "\u001b[32mMigrated:\u001b[39m  2019_08_19_000000_create_failed_jobs_table (38.35ms)\n",
      "\u001b[33mMigrating:\u001b[39m 2019_12_14_000001_create_personal_access_tokens_table\n",
      "\u001b[32mMigrated:\u001b[39m  2019_12_14_000001_create_personal_access_tokens_table (71.94ms)\n",
      "\u001b[33mSeeding:\u001b[39m Database\\Seeders\\UserSeeder\n",
      "\u001b[32mSeeded:\u001b[39m  Database\\Seeders\\UserSeeder (86.89ms)\n",
      "\u001b[32mDatabase seeding completed successfully.\u001b[39m\n",
      "mysqldump: [Warning] Using a password on the command line interface can be insecure.\n",
      "Starting Laravel development server: http://127.0.0.1:8888\n",
      "Codeception PHP Testing Framework v4.1.22\n",
      "Powered by PHPUnit 9.5.10 by Sebastian Bergmann and contributors.\n",
      "[Sat Jan  8 22:03:58 2022] PHP 8.0.10 Development Server (http://127.0.0.1:8888) started\n",
      "\n",
      "\u001b[1mAcceptance Tests (1) \u001b[22m-----------------------------------------------------------\n",
      "- \u001b[35;1mLoginCept:\u001b[39;22m Login with existing user[Sat Jan  8 22:03:59 2022] 127.0.0.1:49810 Accepted\n",
      "[Sat Jan  8 22:03:59 2022] 127.0.0.1:49810 Closing\n",
      "[Sat Jan  8 22:03:59 2022] 127.0.0.1:49814 Accepted\n",
      "[Sat Jan  8 22:03:59 2022] 127.0.0.1:49814 Closing\n",
      "\u001b[32;1m✔\u001b[39;22m \u001b[35;1mLoginCept:\u001b[39;22m Login with existing user \u001b[32m(0.80s)\u001b[39m\n",
      "--------------------------------------------------------------------------------\n",
      "\u001b[33m3x DEPRECATION: \u001b[39m\u001b[1mSince symfony/dom-crawler 5.3: The Symfony\\Component\\DomCrawler\\Crawler::parents() method is deprecated, use ancestors() instead.\u001b[22m\u001b[33m \u001b[39m\u001b[32m/home/student/Projekcik/Projekt/project/vendor/symfony/deprecation-contracts/function.php:25\u001b[39m\n",
      "\n",
      "\n",
      "Time: 00:01.389, Memory: 14.00 MB\n",
      "\n",
      "\u001b[30;42mOK (1 test, 4 assertions)\u001b[0m\n",
      "[Sat Jan  8 22:03:59 2022] 127.0.0.1:49818 Accepted\n",
      "[Sat Jan  8 22:04:00 2022] 127.0.0.1:49818 Closing\n",
      "[Sat Jan  8 22:04:00 2022] 127.0.0.1:49824 Accepted\n",
      "[Sat Jan  8 22:04:00 2022] 127.0.0.1:49824 Closing\n"
     ]
    }
   ],
   "source": [
    "! sudo docker run --name=mysql --net=host --rm --env MYSQL_ROOT_PASSWORD=root123 --env MYSQL_ROOT_HOST=% --env MYSQL_DATABASE=test --env MYSQL_USER=test --env MYSQL_PASSWORD=test123 -d mysql/mysql-server:8.0\n",
    "    \n",
    "! while ! timeout 1 bash -c \"echo > /dev/tcp/localhost/3306\" 2> /dev/null; do sleep 1; done; echo \"Done.\";   \n",
    "\n",
    "%cd project\n",
    "\n",
    "! composer install\n",
    "\n",
    "! cp .env.example .env\n",
    "\n",
    "! php artisan key:generate\n",
    "    \n",
    "! php artisan migrate:fresh\n",
    "    \n",
    "! php artisan db:seed\n",
    "    \n",
    "! mysqldump -h127.0.0.1 -u root --password=root123 test > tests_codeception/_data/dump.sql\n",
    "\n",
    "import subprocess\n",
    "artisanServe = subprocess.Popen(['php', 'artisan', 'serve', '--port', '8888'])\n",
    "\n",
    "! vendor/bin/codecept run"
   ]
  },
  {
   "cell_type": "markdown",
   "metadata": {},
   "source": [
    "Edit the code:"
   ]
  },
  {
   "cell_type": "markdown",
   "metadata": {},
   "source": [
    "You can test your solution using included tests:"
   ]
  },
  {
   "cell_type": "code",
   "execution_count": 4,
   "metadata": {},
   "outputs": [
    {
     "name": "stdout",
     "output_type": "stream",
     "text": [
      "/home/student/Projekcik/Projekt\n"
     ]
    }
   ],
   "source": [
    "! killall php php8.0\n",
    "\n",
    "%cd .."
   ]
  },
  {
   "cell_type": "code",
   "execution_count": null,
   "metadata": {},
   "outputs": [
    {
     "name": "stdout",
     "output_type": "stream",
     "text": [
      "\n",
      "(java:94): dbind-\u001b[1;33mWARNING\u001b[0m **: \u001b[34m21:47:18.884\u001b[0m: Couldn't connect to accessibility bus: Failed to connect to socket /tmp/dbus-3Vc4yAeAUW: No such file or directory\n",
      "2022-01-08 21:47:26,605 [   8196]   WARN - l.NotificationGroupManagerImpl - Notification group CodeWithMe is already registered (group=com.intellij.notification.NotificationGroup@c35172e). Plugin descriptor: PluginDescriptor(name=Code With Me, id=com.jetbrains.codeWithMe, descriptorPath=plugin.xml, path=/opt/PhpStorm-212.5080.71/plugins/cwm-plugin, version=212.5080.71, package=null) \n",
      "2022-01-08 21:47:32,851 [  14442]   WARN - ctionSystem.impl.ActionUpdater - 1795 ms to expand group child OpenFile \n",
      "2022-01-08 21:47:36,752 [  18343]   WARN - pl.local.NativeFileWatcherImpl - table error: collision at 3623 (new /home/student/Projekcik/.env/home/cache/JetBrains/PhpStorm2021.2/javascript/typings/lodash/4.14.178, existing /home/student/.cache/JetBrains/PhpStorm2021.2/javascript/typings/lodash/4.14.178) \n",
      "2022-01-08 21:47:36,774 [  18365]   WARN - pl.local.NativeFileWatcherImpl - Watcher terminated with exit code 3 \n",
      "[JetBrains Runtime] Detected slow X11, switched off alpha compositing of images. Control with -Dremote.x11.workaround={true|false|auto}.\n",
      "2022-01-08 21:47:36,979 [  18570]   WARN - pl.local.NativeFileWatcherImpl - table error: collision at 2 (new /home/student/Projekcik/.env/home/cache/JetBrains/PhpStorm2021.2/javascript/typings/lodash/4.14.178, existing /home/student/.cache/JetBrains/PhpStorm2021.2/javascript/typings/lodash/4.14.178) \n",
      "2022-01-08 21:47:37,041 [  18632]   WARN - pl.local.NativeFileWatcherImpl - Watcher terminated with exit code 3 \n",
      "2022-01-08 21:47:37,337 [  18928]   WARN - pl.local.NativeFileWatcherImpl - table error: collision at 2 (new /home/student/Projekcik/.env/home/cache/JetBrains/PhpStorm2021.2/javascript/typings/lodash/4.14.178, existing /home/student/.cache/JetBrains/PhpStorm2021.2/javascript/typings/lodash/4.14.178) \n",
      "2022-01-08 21:47:37,383 [  18974]   WARN - pl.local.NativeFileWatcherImpl - Watcher terminated with exit code 3 \n",
      "2022-01-08 21:47:37,749 [  19340]   WARN - pl.local.NativeFileWatcherImpl - table error: collision at 2 (new /home/student/Projekcik/.env/home/cache/JetBrains/PhpStorm2021.2/javascript/typings/lodash/4.14.178, existing /home/student/.cache/JetBrains/PhpStorm2021.2/javascript/typings/lodash/4.14.178) \n",
      "2022-01-08 21:47:37,768 [  19359]   WARN - pl.local.NativeFileWatcherImpl - Watcher terminated with exit code 3 \n",
      "2022-01-08 21:47:38,060 [  19651]   WARN - pl.local.NativeFileWatcherImpl - table error: collision at 2 (new /home/student/Projekcik/.env/home/cache/JetBrains/PhpStorm2021.2/javascript/typings/lodash/4.14.178, existing /home/student/.cache/JetBrains/PhpStorm2021.2/javascript/typings/lodash/4.14.178) \n",
      "2022-01-08 21:47:38,095 [  19686]   WARN - pl.local.NativeFileWatcherImpl - Watcher terminated with exit code 3 \n",
      "2022-01-08 21:47:38,294 [  19885]   WARN - pl.local.NativeFileWatcherImpl - table error: collision at 2 (new /home/student/Projekcik/.env/home/cache/JetBrains/PhpStorm2021.2/javascript/typings/lodash/4.14.178, existing /home/student/.cache/JetBrains/PhpStorm2021.2/javascript/typings/lodash/4.14.178) \n",
      "2022-01-08 21:47:38,316 [  19907]   WARN - pl.local.NativeFileWatcherImpl - Watcher terminated with exit code 3 \n",
      "2022-01-08 21:47:38,524 [  20115]   WARN - pl.local.NativeFileWatcherImpl - table error: collision at 2 (new /home/student/Projekcik/.env/home/cache/JetBrains/PhpStorm2021.2/javascript/typings/lodash/4.14.178, existing /home/student/.cache/JetBrains/PhpStorm2021.2/javascript/typings/lodash/4.14.178) \n",
      "2022-01-08 21:47:38,557 [  20148]   WARN - pl.local.NativeFileWatcherImpl - Watcher terminated with exit code 3 \n",
      "2022-01-08 21:47:38,863 [  20454]   WARN - pl.local.NativeFileWatcherImpl - table error: collision at 2 (new /home/student/Projekcik/.env/home/cache/JetBrains/PhpStorm2021.2/javascript/typings/lodash/4.14.178, existing /home/student/.cache/JetBrains/PhpStorm2021.2/javascript/typings/lodash/4.14.178) \n",
      "2022-01-08 21:47:38,968 [  20559]   WARN - pl.local.NativeFileWatcherImpl - Watcher terminated with exit code 3 \n",
      "2022-01-08 21:47:39,289 [  20880]   WARN - pl.local.NativeFileWatcherImpl - table error: collision at 2 (new /home/student/Projekcik/.env/home/cache/JetBrains/PhpStorm2021.2/javascript/typings/lodash/4.14.178, existing /home/student/.cache/JetBrains/PhpStorm2021.2/javascript/typings/lodash/4.14.178) \n",
      "2022-01-08 21:47:39,351 [  20942]   WARN - pl.local.NativeFileWatcherImpl - Watcher terminated with exit code 3 \n",
      "2022-01-08 21:47:39,490 [  21081]   WARN - ctionSystem.impl.ActionUpdater - 2788 ms to expand group child CWMTelephonyGroup \n",
      "2022-01-08 21:47:39,491 [  21082]   WARN - ctionSystem.impl.ActionUpdater - 2789 ms to expand group child CodeWithMeNavbarGroup \n",
      "2022-01-08 21:47:39,622 [  21213]   WARN - pl.local.NativeFileWatcherImpl - table error: collision at 2 (new /home/student/Projekcik/.env/home/cache/JetBrains/PhpStorm2021.2/javascript/typings/lodash/4.14.178, existing /home/student/.cache/JetBrains/PhpStorm2021.2/javascript/typings/lodash/4.14.178) \n",
      "2022-01-08 21:47:39,671 [  21262]   WARN - pl.local.NativeFileWatcherImpl - Watcher terminated with exit code 3 \n",
      "2022-01-08 21:47:39,671 [  21262]   WARN - api.vfs.impl.local.FileWatcher - File watcher failed repeatedly and has been disabled \n",
      "2022-01-08 21:47:39,882 [  21473]   WARN - com.intellij.util.xmlb.Binding - no accessors for com.jetbrains.php.testFramework.PhpTestFrameworkType \n",
      "2022-01-08 21:49:28,846 [ 130437]  ERROR - terminal.emulator.JediEmulator - Unhandled Control sequence\n",
      "parsed                        :ESC[?2004h\n",
      "bytes read                    :ESC[ \n",
      "2022-01-08 21:49:39,950 [ 141541]  ERROR - terminal.emulator.JediEmulator - Unhandled Control sequence\n",
      "parsed                        :ESC[?2004l\n",
      "bytes read                    :ESC[ \n",
      "2022-01-08 21:50:11,224 [ 172815]   WARN -    #com.jetbrains.php.PhpIndex - Completing type '#F\\view' took 1192ms, visited:[#F\\view] \n",
      "2022-01-08 21:50:26,026 [ 187617]   WARN - ctionSystem.impl.ActionUpdater - Slow (139 ms) `com.intellij.ide.fileTemplates.actions.CreateFromTemplateGroup#update`. Consider speeding it up and/or implementing UpdateInBackground. \n"
     ]
    }
   ],
   "source": [
    "! phpstorm project"
   ]
  },
  {
   "cell_type": "markdown",
   "metadata": {},
   "source": [
    "Stop database:"
   ]
  },
  {
   "cell_type": "code",
   "execution_count": 3,
   "metadata": {},
   "outputs": [
    {
     "name": "stdout",
     "output_type": "stream",
     "text": [
      "mysql\r\n"
     ]
    }
   ],
   "source": [
    "! sudo docker container stop mysql"
   ]
  },
  {
   "cell_type": "code",
   "execution_count": null,
   "metadata": {},
   "outputs": [],
   "source": []
  }
 ],
 "metadata": {
  "kernelspec": {
   "display_name": "Python 3 (ipykernel)",
   "language": "python",
   "name": "python3"
  },
  "language_info": {
   "codemirror_mode": {
    "name": "ipython",
    "version": 3
   },
   "file_extension": ".py",
   "mimetype": "text/x-python",
   "name": "python",
   "nbconvert_exporter": "python",
   "pygments_lexer": "ipython3",
   "version": "3.9.5"
  }
 },
 "nbformat": 4,
 "nbformat_minor": 4
}
