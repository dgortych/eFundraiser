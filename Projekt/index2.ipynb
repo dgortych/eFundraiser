{
 "cells": [
  {
   "cell_type": "markdown",
   "metadata": {},
   "source": [
    "# PHP 2021"
   ]
  },
  {
   "cell_type": "markdown",
   "metadata": {},
   "source": [
    "## Projekt"
   ]
  },
  {
   "cell_type": "code",
   "execution_count": 1,
   "metadata": {},
   "outputs": [
    {
     "name": "stdout",
     "output_type": "stream",
     "text": [
      "9d1d228dffe8f5ac6c63607caad20ea89e0f306b0c9bd5e55621e0489c820d41\n",
      "Done.\n",
      "/home/student/php_project/php_2021_przeprowadzanie_zbiorek_pienieznych_online/Projekt/project\n",
      "\u001b[32mInstalling dependencies from lock file (including require-dev)\u001b[39m\n",
      "\u001b[32mVerifying lock file contents can be installed on current platform.\u001b[39m\n",
      "Nothing to install, update or remove\n",
      "\u001b[30;43mPackage swiftmailer/swiftmailer is abandoned, you should avoid using it. Use symfony/mailer instead.\u001b[39;49m\n",
      "\u001b[32mGenerating optimized autoload files\u001b[39m\n",
      "> Illuminate\\Foundation\\ComposerScripts::postAutoloadDump\n",
      "> @php artisan package:discover --ansi\n",
      "Discovered Package: \u001b[32mfacade/ignition\u001b[39m\n",
      "Discovered Package: \u001b[32mfruitcake/laravel-cors\u001b[39m\n",
      "Discovered Package: \u001b[32mlaravel/breeze\u001b[39m\n",
      "Discovered Package: \u001b[32mlaravel/sail\u001b[39m\n",
      "Discovered Package: \u001b[32mlaravel/sanctum\u001b[39m\n",
      "Discovered Package: \u001b[32mlaravel/tinker\u001b[39m\n",
      "Discovered Package: \u001b[32mnesbot/carbon\u001b[39m\n",
      "Discovered Package: \u001b[32mnunomaduro/collision\u001b[39m\n",
      "\u001b[32mPackage manifest generated successfully.\u001b[39m\n",
      "\u001b[32m81 packages you are using are looking for funding.\u001b[39m\n",
      "\u001b[32mUse the `composer fund` command to find out more!\u001b[39m\n",
      "\u001b[32mApplication key set successfully.\u001b[39m\n",
      "\u001b[32mDropped all tables successfully.\u001b[39m\n",
      "\u001b[32mMigration table created successfully.\u001b[39m\n",
      "\u001b[33mMigrating:\u001b[39m 2014_10_12_000000_create_users_table\n",
      "\u001b[32mMigrated:\u001b[39m  2014_10_12_000000_create_users_table (73.37ms)\n",
      "\u001b[33mMigrating:\u001b[39m 2014_10_12_100000_create_password_resets_table\n",
      "\u001b[32mMigrated:\u001b[39m  2014_10_12_100000_create_password_resets_table (70.09ms)\n",
      "\u001b[33mMigrating:\u001b[39m 2019_08_19_000000_create_failed_jobs_table\n",
      "\u001b[32mMigrated:\u001b[39m  2019_08_19_000000_create_failed_jobs_table (68.61ms)\n",
      "\u001b[33mMigrating:\u001b[39m 2019_12_14_000001_create_personal_access_tokens_table\n",
      "\u001b[32mMigrated:\u001b[39m  2019_12_14_000001_create_personal_access_tokens_table (112.88ms)\n",
      "\u001b[33mMigrating:\u001b[39m 2022_01_09_132531_create_categories_table\n",
      "\u001b[32mMigrated:\u001b[39m  2022_01_09_132531_create_categories_table (37.58ms)\n",
      "\u001b[33mMigrating:\u001b[39m 2022_01_09_132734_create_fundraisers_table\n",
      "\u001b[32mMigrated:\u001b[39m  2022_01_09_132734_create_fundraisers_table (292.37ms)\n",
      "\u001b[33mMigrating:\u001b[39m 2022_01_09_132745_create_donations_table\n",
      "\u001b[32mMigrated:\u001b[39m  2022_01_09_132745_create_donations_table (428.53ms)\n",
      "\u001b[33mSeeding:\u001b[39m Database\\Seeders\\UserSeeder\n",
      "\u001b[32mSeeded:\u001b[39m  Database\\Seeders\\UserSeeder (339.94ms)\n",
      "\u001b[33mSeeding:\u001b[39m Database\\Seeders\\CategorySeeder\n",
      "\u001b[32mSeeded:\u001b[39m  Database\\Seeders\\CategorySeeder (56.26ms)\n",
      "\u001b[33mSeeding:\u001b[39m Database\\Seeders\\FundraiserSeeder\n",
      "\u001b[32mSeeded:\u001b[39m  Database\\Seeders\\FundraiserSeeder (18.20ms)\n",
      "\u001b[33mSeeding:\u001b[39m Database\\Seeders\\DonationSeeder\n",
      "\u001b[32mSeeded:\u001b[39m  Database\\Seeders\\DonationSeeder (8.07ms)\n",
      "\u001b[32mDatabase seeding completed successfully.\u001b[39m\n",
      "mysqldump: [Warning] Using a password on the command line interface can be insecure.\n",
      "Starting Laravel development server: http://127.0.0.1:8888\n",
      "Codeception PHP Testing Framework v4.1.22\n",
      "Powered by PHPUnit 9.5.10 by Sebastian Bergmann and contributors.\n",
      "[Tue Jan 11 00:14:32 2022] PHP 8.0.10 Development Server (http://127.0.0.1:8888) started\n",
      "\n",
      "\u001b[1mAcceptance Tests (2) \u001b[22m-----------------------------------------------------------\n",
      "- \u001b[35;1mLoginCept:\u001b[39;22m Login with existing user[Tue Jan 11 00:14:34 2022] 127.0.0.1:38706 Accepted\n",
      "\u001b[32;1m✔\u001b[39;22m \u001b[35;1mLoginCept:\u001b[39;22m Login with existing user \u001b[32m(0.52s)\u001b[39m\n",
      "- \u001b[35;1mUserCept:\u001b[39;22m Have users page[Tue Jan 11 00:14:34 2022] 127.0.0.1:38706 Closing\n",
      "[Tue Jan 11 00:14:34 2022] 127.0.0.1:38710 Accepted\n",
      "[Tue Jan 11 00:14:35 2022] 127.0.0.1:38710 Closing\n",
      "[Tue Jan 11 00:14:35 2022] 127.0.0.1:38714 Accepted\n",
      "[Tue Jan 11 00:14:35 2022] 127.0.0.1:38714 Closing\n",
      "[Tue Jan 11 00:14:35 2022] 127.0.0.1:38720 Accepted\n",
      "[Tue Jan 11 00:14:35 2022] 127.0.0.1:38720 Closing\n",
      "[Tue Jan 11 00:14:36 2022] 127.0.0.1:38726 Accepted\n",
      "[Tue Jan 11 00:14:36 2022] 127.0.0.1:38726 Closing\n",
      "[Tue Jan 11 00:14:36 2022] 127.0.0.1:38730 Accepted\n",
      "[Tue Jan 11 00:14:36 2022] 127.0.0.1:38730 Closing\n",
      "[Tue Jan 11 00:14:36 2022] 127.0.0.1:38736 Accepted\n",
      "\u001b[32;1m✔\u001b[39;22m \u001b[35;1mUserCept:\u001b[39;22m Have users page \u001b[32m(0.68s)\u001b[39m\n",
      "--------------------------------------------------------------------------------\n",
      "\u001b[33m9x DEPRECATION: \u001b[39m\u001b[1mSince symfony/dom-crawler 5.3: The Symfony\\Component\\DomCrawler\\Crawler::parents() method is deprecated, use ancestors() instead.\u001b[22m\u001b[33m \u001b[39m\u001b[32m/home/student/php_project/php_2021_przeprowadzanie_zbiorek_pienieznych_online/Projekt/project/vendor/symfony/deprecation-contracts/function.php:25\u001b[39m\n",
      "\n",
      "\n",
      "Time: 00:03.798, Memory: 16.00 MB\n",
      "\n",
      "\u001b[30;42mOK (2 tests, 11 assertions)\u001b[0m\n",
      "[Tue Jan 11 00:14:36 2022] 127.0.0.1:38736 Closing\n",
      "[Tue Jan 11 00:14:36 2022] 127.0.0.1:38742 Accepted\n",
      "[Tue Jan 11 00:14:36 2022] 127.0.0.1:38742 Closing\n",
      "[Tue Jan 11 00:14:36 2022] 127.0.0.1:38748 Accepted\n",
      "[Tue Jan 11 00:14:36 2022] 127.0.0.1:38748 Closing\n",
      "[Tue Jan 11 00:14:36 2022] 127.0.0.1:38754 Accepted\n",
      "[Tue Jan 11 00:14:36 2022] 127.0.0.1:38754 Closing\n",
      "[Tue Jan 11 00:14:36 2022] 127.0.0.1:38760 Accepted\n",
      "[Tue Jan 11 00:14:36 2022] 127.0.0.1:38760 Closing\n",
      "[Tue Jan 11 00:14:36 2022] 127.0.0.1:38766 Accepted\n",
      "[Tue Jan 11 00:14:36 2022] 127.0.0.1:38766 Closing\n"
     ]
    }
   ],
   "source": [
    "! sudo docker run --name=mysql --net=host --rm --env MYSQL_ROOT_PASSWORD=root123 --env MYSQL_ROOT_HOST=% --env MYSQL_DATABASE=test --env MYSQL_USER=test --env MYSQL_PASSWORD=test123 -d mysql/mysql-server:8.0\n",
    "    \n",
    "! while ! timeout 1 bash -c \"echo > /dev/tcp/localhost/3306\" 2> /dev/null; do sleep 1; done; echo \"Done.\";   \n",
    "\n",
    "%cd project\n",
    "\n",
    "! composer install\n",
    "\n",
    "! cp .env.example .env\n",
    "\n",
    "! php artisan key:generate\n",
    "    \n",
    "! php artisan migrate:fresh\n",
    "    \n",
    "! php artisan db:seed\n",
    "    \n",
    "! mysqldump -h127.0.0.1 -u root --password=root123 test > tests_codeception/_data/dump.sql\n",
    "\n",
    "import subprocess\n",
    "artisanServe = subprocess.Popen(['php', 'artisan', 'serve', '--port', '8888'])\n",
    "\n",
    "! vendor/bin/codecept run"
   ]
  },
  {
   "cell_type": "markdown",
   "metadata": {},
   "source": [
    "Edit the code:"
   ]
  },
  {
   "cell_type": "markdown",
   "metadata": {},
   "source": [
    "You can test your solution using included tests:"
   ]
  },
  {
   "cell_type": "code",
   "execution_count": 2,
   "metadata": {},
   "outputs": [
    {
     "name": "stdout",
     "output_type": "stream",
     "text": [
      "/home/student/php_project/php_2021_przeprowadzanie_zbiorek_pienieznych_online/Projekt\n"
     ]
    }
   ],
   "source": [
    "! killall php php8.0\n",
    "\n",
    "%cd .."
   ]
  },
  {
   "cell_type": "code",
   "execution_count": 3,
   "metadata": {},
   "outputs": [
    {
     "name": "stdout",
     "output_type": "stream",
     "text": [
      "\n",
      "(java:158): dbind-\u001b[1;33mWARNING\u001b[0m **: \u001b[34m00:14:55.411\u001b[0m: Couldn't connect to accessibility bus: Failed to connect to socket /tmp/dbus-T0W9dlBLFF: No such file or directory\n",
      "2022-01-11 00:15:02,844 [   7880]   WARN - l.NotificationGroupManagerImpl - Notification group CodeWithMe is already registered (group=com.intellij.notification.NotificationGroup@68e5f65a). Plugin descriptor: PluginDescriptor(name=Code With Me, id=com.jetbrains.codeWithMe, descriptorPath=plugin.xml, path=/opt/PhpStorm-212.5080.71/plugins/cwm-plugin, version=212.5080.71, package=null) \n",
      "2022-01-11 00:15:06,485 [  11521]   WARN - ctionSystem.impl.ActionUpdater - Slow (110 ms) `com.jetbrains.php.framework.FrameworkRunAnythingActionDelegate#update`. Consider speeding it up and/or implementing UpdateInBackground. \n",
      "[JetBrains Runtime] Detected slow X11, switched off alpha compositing of images. Control with -Dremote.x11.workaround={true|false|auto}.\n",
      "2022-01-11 00:15:16,241 [  21277]   WARN - pl.local.NativeFileWatcherImpl - table error: collision at 3636 (new /home/student/php_project/php_2021_przeprowadzanie_zbiorek_pienieznych_online/.env/home/cache/JetBrains/PhpStorm2021.2/javascript/typings/lodash/4.14.178, existing /home/student/.cache/JetBrains/PhpStorm2021.2/javascript/typings/lodash/4.14.178) \n",
      "2022-01-11 00:15:16,281 [  21317]   WARN - pl.local.NativeFileWatcherImpl - Watcher terminated with exit code 3 \n",
      "2022-01-11 00:15:16,422 [  21458]  ERROR - terminal.emulator.JediEmulator - Unhandled Control sequence\n",
      "parsed                        :ESC[?2004h\n",
      "bytes read                    :ESC[ \n",
      "2022-01-11 00:15:16,494 [  21530]   WARN - pl.local.NativeFileWatcherImpl - table error: collision at 2 (new /home/student/php_project/php_2021_przeprowadzanie_zbiorek_pienieznych_online/.env/home/cache/JetBrains/PhpStorm2021.2/javascript/typings/lodash/4.14.178, existing /home/student/.cache/JetBrains/PhpStorm2021.2/javascript/typings/lodash/4.14.178) \n",
      "2022-01-11 00:15:16,535 [  21571]   WARN - pl.local.NativeFileWatcherImpl - Watcher terminated with exit code 3 \n",
      "2022-01-11 00:15:16,704 [  21740]   WARN - pl.local.NativeFileWatcherImpl - table error: collision at 2 (new /home/student/php_project/php_2021_przeprowadzanie_zbiorek_pienieznych_online/.env/home/cache/JetBrains/PhpStorm2021.2/javascript/typings/lodash/4.14.178, existing /home/student/.cache/JetBrains/PhpStorm2021.2/javascript/typings/lodash/4.14.178) \n",
      "2022-01-11 00:15:16,735 [  21771]   WARN - pl.local.NativeFileWatcherImpl - Watcher terminated with exit code 3 \n",
      "2022-01-11 00:15:16,954 [  21990]   WARN - pl.local.NativeFileWatcherImpl - table error: collision at 2 (new /home/student/php_project/php_2021_przeprowadzanie_zbiorek_pienieznych_online/.env/home/cache/JetBrains/PhpStorm2021.2/javascript/typings/lodash/4.14.178, existing /home/student/.cache/JetBrains/PhpStorm2021.2/javascript/typings/lodash/4.14.178) \n",
      "2022-01-11 00:15:17,001 [  22037]   WARN - pl.local.NativeFileWatcherImpl - Watcher terminated with exit code 3 \n",
      "2022-01-11 00:15:17,261 [  22297]   WARN - pl.local.NativeFileWatcherImpl - table error: collision at 2 (new /home/student/php_project/php_2021_przeprowadzanie_zbiorek_pienieznych_online/.env/home/cache/JetBrains/PhpStorm2021.2/javascript/typings/lodash/4.14.178, existing /home/student/.cache/JetBrains/PhpStorm2021.2/javascript/typings/lodash/4.14.178) \n",
      "2022-01-11 00:15:17,283 [  22319]   WARN - pl.local.NativeFileWatcherImpl - Watcher terminated with exit code 3 \n",
      "2022-01-11 00:15:17,524 [  22560]   WARN - pl.local.NativeFileWatcherImpl - table error: collision at 2 (new /home/student/php_project/php_2021_przeprowadzanie_zbiorek_pienieznych_online/.env/home/cache/JetBrains/PhpStorm2021.2/javascript/typings/lodash/4.14.178, existing /home/student/.cache/JetBrains/PhpStorm2021.2/javascript/typings/lodash/4.14.178) \n",
      "2022-01-11 00:15:17,561 [  22597]   WARN - pl.local.NativeFileWatcherImpl - Watcher terminated with exit code 3 \n",
      "2022-01-11 00:15:17,781 [  22817]   WARN - pl.local.NativeFileWatcherImpl - table error: collision at 2 (new /home/student/php_project/php_2021_przeprowadzanie_zbiorek_pienieznych_online/.env/home/cache/JetBrains/PhpStorm2021.2/javascript/typings/lodash/4.14.178, existing /home/student/.cache/JetBrains/PhpStorm2021.2/javascript/typings/lodash/4.14.178) \n",
      "2022-01-11 00:15:17,826 [  22862]   WARN - pl.local.NativeFileWatcherImpl - Watcher terminated with exit code 3 \n",
      "2022-01-11 00:15:17,909 [  22945]   WARN - ctionSystem.impl.ActionUpdater - 1417 ms to expand group child CWMTelephonyGroup \n",
      "2022-01-11 00:15:17,910 [  22946]   WARN - ctionSystem.impl.ActionUpdater - 1424 ms to expand group child CodeWithMeNavbarGroup \n",
      "2022-01-11 00:15:18,001 [  23037]   WARN - pl.local.NativeFileWatcherImpl - table error: collision at 2 (new /home/student/php_project/php_2021_przeprowadzanie_zbiorek_pienieznych_online/.env/home/cache/JetBrains/PhpStorm2021.2/javascript/typings/lodash/4.14.178, existing /home/student/.cache/JetBrains/PhpStorm2021.2/javascript/typings/lodash/4.14.178) \n",
      "2022-01-11 00:15:18,005 [  23041]   WARN - com.intellij.util.xmlb.Binding - no accessors for com.jetbrains.php.testFramework.PhpTestFrameworkType \n",
      "2022-01-11 00:15:18,037 [  23073]   WARN - pl.local.NativeFileWatcherImpl - Watcher terminated with exit code 3 \n",
      "2022-01-11 00:15:18,231 [  23267]   WARN - pl.local.NativeFileWatcherImpl - table error: collision at 2 (new /home/student/php_project/php_2021_przeprowadzanie_zbiorek_pienieznych_online/.env/home/cache/JetBrains/PhpStorm2021.2/javascript/typings/lodash/4.14.178, existing /home/student/.cache/JetBrains/PhpStorm2021.2/javascript/typings/lodash/4.14.178) \n",
      "2022-01-11 00:15:18,273 [  23309]   WARN - pl.local.NativeFileWatcherImpl - Watcher terminated with exit code 3 \n",
      "2022-01-11 00:15:18,430 [  23466]   WARN - pl.local.NativeFileWatcherImpl - table error: collision at 2 (new /home/student/php_project/php_2021_przeprowadzanie_zbiorek_pienieznych_online/.env/home/cache/JetBrains/PhpStorm2021.2/javascript/typings/lodash/4.14.178, existing /home/student/.cache/JetBrains/PhpStorm2021.2/javascript/typings/lodash/4.14.178) \n",
      "2022-01-11 00:15:18,454 [  23490]   WARN - pl.local.NativeFileWatcherImpl - Watcher terminated with exit code 3 \n",
      "2022-01-11 00:15:18,455 [  23491]   WARN - api.vfs.impl.local.FileWatcher - File watcher failed repeatedly and has been disabled \n",
      "2022-01-11 00:15:52,737 [  57773]  ERROR - terminal.emulator.JediEmulator - Unhandled Control sequence\n",
      "parsed                        :ESC[?2004h\n",
      "bytes read                    :ESC[ \n",
      "2022-01-11 00:15:55,006 [  60042]  ERROR - terminal.emulator.JediEmulator - Unhandled Control sequence\n",
      "parsed                        :ESC[?2004l\n",
      "bytes read                    :ESC[ \n",
      "2022-01-11 00:28:57,617 [ 842653]  ERROR - terminal.emulator.JediEmulator - Unhandled Control sequence\n",
      "parsed                        :ESC[?2004l\n",
      "bytes read                    :ESC[ \n"
     ]
    }
   ],
   "source": [
    "! phpstorm project"
   ]
  },
  {
   "cell_type": "markdown",
   "metadata": {},
   "source": [
    "Stop database:"
   ]
  },
  {
   "cell_type": "code",
   "execution_count": 3,
   "metadata": {},
   "outputs": [
    {
     "name": "stdout",
     "output_type": "stream",
     "text": [
      "mysql\r\n"
     ]
    }
   ],
   "source": [
    "! sudo docker container stop mysql"
   ]
  },
  {
   "cell_type": "code",
   "execution_count": null,
   "metadata": {},
   "outputs": [],
   "source": []
  }
 ],
 "metadata": {
  "kernelspec": {
   "display_name": "Python 3 (ipykernel)",
   "language": "python",
   "name": "python3"
  },
  "language_info": {
   "codemirror_mode": {
    "name": "ipython",
    "version": 3
   },
   "file_extension": ".py",
   "mimetype": "text/x-python",
   "name": "python",
   "nbconvert_exporter": "python",
   "pygments_lexer": "ipython3",
   "version": "3.9.5"
  }
 },
 "nbformat": 4,
 "nbformat_minor": 4
}
