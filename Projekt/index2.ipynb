{
 "cells": [
  {
   "cell_type": "markdown",
   "metadata": {},
   "source": [
    "# PHP 2021"
   ]
  },
  {
   "cell_type": "markdown",
   "metadata": {},
   "source": [
    "## Projekt"
   ]
  },
  {
   "cell_type": "code",
   "execution_count": 1,
   "metadata": {},
   "outputs": [
    {
     "name": "stdout",
     "output_type": "stream",
     "text": [
      "c9447cca2624b4c26492e7e86465af76de5e70d6bf18b2eb14fe3b570ee7cff9\n",
      "Done.\n",
      "/home/student/php_project/php_2021_przeprowadzanie_zbiorek_pienieznych_online/Projekt/project\n",
      "\u001b[32mInstalling dependencies from lock file (including require-dev)\u001b[39m\n",
      "\u001b[32mVerifying lock file contents can be installed on current platform.\u001b[39m\n",
      "Nothing to install, update or remove\n",
      "\u001b[30;43mPackage swiftmailer/swiftmailer is abandoned, you should avoid using it. Use symfony/mailer instead.\u001b[39;49m\n",
      "\u001b[32mGenerating optimized autoload files\u001b[39m\n",
      "> Illuminate\\Foundation\\ComposerScripts::postAutoloadDump\n",
      "> @php artisan package:discover --ansi\n",
      "Discovered Package: \u001b[32mfacade/ignition\u001b[39m\n",
      "Discovered Package: \u001b[32mfruitcake/laravel-cors\u001b[39m\n",
      "Discovered Package: \u001b[32mlaravel/breeze\u001b[39m\n",
      "Discovered Package: \u001b[32mlaravel/sail\u001b[39m\n",
      "Discovered Package: \u001b[32mlaravel/sanctum\u001b[39m\n",
      "Discovered Package: \u001b[32mlaravel/tinker\u001b[39m\n",
      "Discovered Package: \u001b[32mnesbot/carbon\u001b[39m\n",
      "Discovered Package: \u001b[32mnunomaduro/collision\u001b[39m\n",
      "\u001b[32mPackage manifest generated successfully.\u001b[39m\n",
      "\u001b[32m81 packages you are using are looking for funding.\u001b[39m\n",
      "\u001b[32mUse the `composer fund` command to find out more!\u001b[39m\n",
      "\u001b[32mApplication key set successfully.\u001b[39m\n",
      "\u001b[32mDropped all tables successfully.\u001b[39m\n",
      "\u001b[32mMigration table created successfully.\u001b[39m\n",
      "\u001b[33mMigrating:\u001b[39m 2014_10_12_000000_create_users_table\n",
      "\u001b[32mMigrated:\u001b[39m  2014_10_12_000000_create_users_table (122.68ms)\n",
      "\u001b[33mMigrating:\u001b[39m 2014_10_12_100000_create_password_resets_table\n",
      "\u001b[32mMigrated:\u001b[39m  2014_10_12_100000_create_password_resets_table (86.08ms)\n",
      "\u001b[33mMigrating:\u001b[39m 2019_08_19_000000_create_failed_jobs_table\n",
      "\u001b[32mMigrated:\u001b[39m  2019_08_19_000000_create_failed_jobs_table (160.21ms)\n",
      "\u001b[33mMigrating:\u001b[39m 2019_12_14_000001_create_personal_access_tokens_table\n",
      "\u001b[32mMigrated:\u001b[39m  2019_12_14_000001_create_personal_access_tokens_table (119.51ms)\n",
      "\u001b[33mMigrating:\u001b[39m 2022_01_09_132531_create_categories_table\n",
      "\u001b[32mMigrated:\u001b[39m  2022_01_09_132531_create_categories_table (37.97ms)\n",
      "\u001b[33mMigrating:\u001b[39m 2022_01_09_132734_create_fundraisers_table\n",
      "\u001b[32mMigrated:\u001b[39m  2022_01_09_132734_create_fundraisers_table (324.49ms)\n",
      "\u001b[33mMigrating:\u001b[39m 2022_01_09_132745_create_donations_table\n",
      "\u001b[32mMigrated:\u001b[39m  2022_01_09_132745_create_donations_table (322.28ms)\n",
      "\u001b[33mSeeding:\u001b[39m Database\\Seeders\\UserSeeder\n",
      "\u001b[32mSeeded:\u001b[39m  Database\\Seeders\\UserSeeder (395.35ms)\n",
      "\u001b[33mSeeding:\u001b[39m Database\\Seeders\\CategorySeeder\n",
      "\u001b[32mSeeded:\u001b[39m  Database\\Seeders\\CategorySeeder (84.98ms)\n",
      "\u001b[33mSeeding:\u001b[39m Database\\Seeders\\FundraiserSeeder\n",
      "\u001b[32mSeeded:\u001b[39m  Database\\Seeders\\FundraiserSeeder (16.56ms)\n",
      "\u001b[33mSeeding:\u001b[39m Database\\Seeders\\DonationSeeder\n",
      "\u001b[32mSeeded:\u001b[39m  Database\\Seeders\\DonationSeeder (7.71ms)\n",
      "\u001b[32mDatabase seeding completed successfully.\u001b[39m\n",
      "mysqldump: [Warning] Using a password on the command line interface can be insecure.\n",
      "Starting Laravel development server: http://127.0.0.1:8888\n",
      "Codeception PHP Testing Framework v4.1.22\n",
      "Powered by PHPUnit 9.5.10 by Sebastian Bergmann and contributors.\n",
      "[Sat Jan 15 20:02:18 2022] PHP 8.0.10 Development Server (http://127.0.0.1:8888) started\n",
      "\n",
      "\u001b[1mAcceptance Tests (2) \u001b[22m-----------------------------------------------------------\n",
      "- \u001b[35;1mLoginCept:\u001b[39;22m Login with existing user[Sat Jan 15 20:02:20 2022] 127.0.0.1:42324 Accepted\n",
      "[Sat Jan 15 20:02:21 2022] 127.0.0.1:42324 Closing\n",
      "[Sat Jan 15 20:02:21 2022] 127.0.0.1:42328 Accepted\n",
      "[Sat Jan 15 20:02:21 2022] 127.0.0.1:42328 Closing\n",
      "[Sat Jan 15 20:02:21 2022] 127.0.0.1:42336 Accepted\n",
      "[Sat Jan 15 20:02:21 2022] 127.0.0.1:42336 Closing\n",
      "[Sat Jan 15 20:02:21 2022] 127.0.0.1:42342 Accepted\n",
      "\u001b[32;1m✔\u001b[39;22m \u001b[35;1mLoginCept:\u001b[39;22m Login with existing user \u001b[32m(0.76s)\u001b[39m\n",
      "- \u001b[35;1mUserCept:\u001b[39;22m Have users page[Sat Jan 15 20:02:21 2022] 127.0.0.1:42342 Closing\n",
      "[Sat Jan 15 20:02:22 2022] 127.0.0.1:42356 Accepted\n",
      "[Sat Jan 15 20:02:22 2022] 127.0.0.1:42356 Closing\n",
      "[Sat Jan 15 20:02:22 2022] 127.0.0.1:42360 Accepted\n",
      "[Sat Jan 15 20:02:22 2022] 127.0.0.1:42360 Closing\n",
      "[Sat Jan 15 20:02:22 2022] 127.0.0.1:42366 Accepted\n",
      "[Sat Jan 15 20:02:22 2022] 127.0.0.1:42366 Closing\n",
      "[Sat Jan 15 20:02:22 2022] 127.0.0.1:42372 Accepted\n",
      "[Sat Jan 15 20:02:23 2022] 127.0.0.1:42372 Closing\n",
      "[Sat Jan 15 20:02:23 2022] 127.0.0.1:42378 Accepted\n",
      "[Sat Jan 15 20:02:23 2022] 127.0.0.1:42378 Closing\n",
      "[Sat Jan 15 20:02:23 2022] 127.0.0.1:42384 Accepted\n",
      "\u001b[32;1m✔\u001b[39;22m \u001b[35;1mUserCept:\u001b[39;22m Have users page \u001b[32m(0.79s)\u001b[39m\n",
      "--------------------------------------------------------------------------------\n",
      "\u001b[33m9x DEPRECATION: \u001b[39m\u001b[1mSince symfony/dom-crawler 5.3: The Symfony\\Component\\DomCrawler\\Crawler::parents() method is deprecated, use ancestors() instead.\u001b[22m\u001b[33m \u001b[39m\u001b[32m/home/student/php_project/php_2021_przeprowadzanie_zbiorek_pienieznych_online/Projekt/project/vendor/symfony/deprecation-contracts/function.php:25\u001b[39m\n",
      "\n",
      "\n",
      "Time: 00:04.386, Memory: 14.00 MB\n",
      "\n",
      "\u001b[30;42mOK (2 tests, 11 assertions)\u001b[0m\n",
      "[Sat Jan 15 20:02:23 2022] 127.0.0.1:42384 Closing\n",
      "[Sat Jan 15 20:02:23 2022] 127.0.0.1:42390 Accepted\n",
      "[Sat Jan 15 20:02:23 2022] 127.0.0.1:42390 Closing\n",
      "[Sat Jan 15 20:02:23 2022] 127.0.0.1:42396 Accepted\n",
      "[Sat Jan 15 20:02:23 2022] 127.0.0.1:42396 Closing\n"
     ]
    }
   ],
   "source": [
    "! sudo docker run --name=mysql --net=host --rm --env MYSQL_ROOT_PASSWORD=root123 --env MYSQL_ROOT_HOST=% --env MYSQL_DATABASE=test --env MYSQL_USER=test --env MYSQL_PASSWORD=test123 -d mysql/mysql-server:8.0\n",
    "    \n",
    "! while ! timeout 1 bash -c \"echo > /dev/tcp/localhost/3306\" 2> /dev/null; do sleep 1; done; echo \"Done.\";   \n",
    "\n",
    "%cd project\n",
    "\n",
    "! composer install\n",
    "\n",
    "! cp .env.example .env\n",
    "\n",
    "! php artisan key:generate\n",
    "    \n",
    "! php artisan migrate:fresh\n",
    "    \n",
    "! php artisan db:seed\n",
    "    \n",
    "! mysqldump -h127.0.0.1 -u root --password=root123 test > tests_codeception/_data/dump.sql\n",
    "\n",
    "import subprocess\n",
    "artisanServe = subprocess.Popen(['php', 'artisan', 'serve', '--port', '8888'])\n",
    "\n",
    "! vendor/bin/codecept run"
   ]
  },
  {
   "cell_type": "markdown",
   "metadata": {},
   "source": [
    "Edit the code:"
   ]
  },
  {
   "cell_type": "markdown",
   "metadata": {},
   "source": [
    "You can test your solution using included tests:"
   ]
  },
  {
   "cell_type": "code",
   "execution_count": 2,
   "metadata": {},
   "outputs": [
    {
     "name": "stdout",
     "output_type": "stream",
     "text": [
      "/home/student/php_project/php_2021_przeprowadzanie_zbiorek_pienieznych_online/Projekt\n"
     ]
    }
   ],
   "source": [
    "! killall php php8.0\n",
    "\n",
    "%cd .."
   ]
  },
  {
   "cell_type": "code",
   "execution_count": null,
   "metadata": {},
   "outputs": [
    {
     "name": "stdout",
     "output_type": "stream",
     "text": [
      "\n",
      "(java:169): dbind-\u001b[1;33mWARNING\u001b[0m **: \u001b[34m20:02:31.766\u001b[0m: Couldn't connect to accessibility bus: Failed to connect to socket /tmp/dbus-W55LjP1oaE: No such file or directory\n",
      "2022-01-15 20:02:43,286 [  12224]   WARN - l.NotificationGroupManagerImpl - Notification group CodeWithMe is already registered (group=com.intellij.notification.NotificationGroup@455351c4). Plugin descriptor: PluginDescriptor(name=Code With Me, id=com.jetbrains.codeWithMe, descriptorPath=plugin.xml, path=/opt/PhpStorm-212.5080.71/plugins/cwm-plugin, version=212.5080.71, package=null) \n",
      "2022-01-15 20:02:58,787 [  27725]   WARN - pl.local.NativeFileWatcherImpl - table error: collision at 3636 (new /home/student/php_project/php_2021_przeprowadzanie_zbiorek_pienieznych_online/.env/home/cache/JetBrains/PhpStorm2021.2/javascript/typings/lodash/4.14.178, existing /home/student/.cache/JetBrains/PhpStorm2021.2/javascript/typings/lodash/4.14.178) \n",
      "2022-01-15 20:02:58,826 [  27764]   WARN - pl.local.NativeFileWatcherImpl - Watcher terminated with exit code 3 \n",
      "2022-01-15 20:02:59,132 [  28070]   WARN - pl.local.NativeFileWatcherImpl - table error: collision at 2 (new /home/student/php_project/php_2021_przeprowadzanie_zbiorek_pienieznych_online/.env/home/cache/JetBrains/PhpStorm2021.2/javascript/typings/lodash/4.14.178, existing /home/student/.cache/JetBrains/PhpStorm2021.2/javascript/typings/lodash/4.14.178) \n",
      "2022-01-15 20:02:59,140 [  28078]   WARN - pl.local.NativeFileWatcherImpl - Watcher terminated with exit code 3 \n",
      "2022-01-15 20:02:59,467 [  28405]   WARN - pl.local.NativeFileWatcherImpl - table error: collision at 2 (new /home/student/php_project/php_2021_przeprowadzanie_zbiorek_pienieznych_online/.env/home/cache/JetBrains/PhpStorm2021.2/javascript/typings/lodash/4.14.178, existing /home/student/.cache/JetBrains/PhpStorm2021.2/javascript/typings/lodash/4.14.178) \n",
      "2022-01-15 20:02:59,499 [  28437]   WARN - pl.local.NativeFileWatcherImpl - Watcher terminated with exit code 3 \n",
      "[JetBrains Runtime] Detected slow X11, switched off alpha compositing of images. Control with -Dremote.x11.workaround={true|false|auto}.\n",
      "2022-01-15 20:02:59,717 [  28655]   WARN - pl.local.NativeFileWatcherImpl - table error: collision at 2 (new /home/student/php_project/php_2021_przeprowadzanie_zbiorek_pienieznych_online/.env/home/cache/JetBrains/PhpStorm2021.2/javascript/typings/lodash/4.14.178, existing /home/student/.cache/JetBrains/PhpStorm2021.2/javascript/typings/lodash/4.14.178) \n",
      "2022-01-15 20:02:59,758 [  28696]   WARN - pl.local.NativeFileWatcherImpl - Watcher terminated with exit code 3 \n",
      "2022-01-15 20:02:59,959 [  28897]   WARN - pl.local.NativeFileWatcherImpl - table error: collision at 2 (new /home/student/php_project/php_2021_przeprowadzanie_zbiorek_pienieznych_online/.env/home/cache/JetBrains/PhpStorm2021.2/javascript/typings/lodash/4.14.178, existing /home/student/.cache/JetBrains/PhpStorm2021.2/javascript/typings/lodash/4.14.178) \n",
      "2022-01-15 20:02:59,972 [  28910]   WARN - pl.local.NativeFileWatcherImpl - Watcher terminated with exit code 3 \n",
      "2022-01-15 20:03:00,155 [  29093]   WARN - pl.local.NativeFileWatcherImpl - table error: collision at 2 (new /home/student/php_project/php_2021_przeprowadzanie_zbiorek_pienieznych_online/.env/home/cache/JetBrains/PhpStorm2021.2/javascript/typings/lodash/4.14.178, existing /home/student/.cache/JetBrains/PhpStorm2021.2/javascript/typings/lodash/4.14.178) \n",
      "2022-01-15 20:03:00,170 [  29108]   WARN - pl.local.NativeFileWatcherImpl - Watcher terminated with exit code 3 \n",
      "2022-01-15 20:03:00,370 [  29308]   WARN - pl.local.NativeFileWatcherImpl - table error: collision at 2 (new /home/student/php_project/php_2021_przeprowadzanie_zbiorek_pienieznych_online/.env/home/cache/JetBrains/PhpStorm2021.2/javascript/typings/lodash/4.14.178, existing /home/student/.cache/JetBrains/PhpStorm2021.2/javascript/typings/lodash/4.14.178) \n",
      "2022-01-15 20:03:00,423 [  29361]   WARN - pl.local.NativeFileWatcherImpl - Watcher terminated with exit code 3 \n",
      "2022-01-15 20:03:00,622 [  29560]   WARN - pl.local.NativeFileWatcherImpl - table error: collision at 2 (new /home/student/php_project/php_2021_przeprowadzanie_zbiorek_pienieznych_online/.env/home/cache/JetBrains/PhpStorm2021.2/javascript/typings/lodash/4.14.178, existing /home/student/.cache/JetBrains/PhpStorm2021.2/javascript/typings/lodash/4.14.178) \n",
      "2022-01-15 20:03:00,632 [  29570]   WARN - pl.local.NativeFileWatcherImpl - Watcher terminated with exit code 3 \n",
      "2022-01-15 20:03:00,810 [  29748]   WARN - pl.local.NativeFileWatcherImpl - table error: collision at 2 (new /home/student/php_project/php_2021_przeprowadzanie_zbiorek_pienieznych_online/.env/home/cache/JetBrains/PhpStorm2021.2/javascript/typings/lodash/4.14.178, existing /home/student/.cache/JetBrains/PhpStorm2021.2/javascript/typings/lodash/4.14.178) \n",
      "2022-01-15 20:03:00,834 [  29772]   WARN - pl.local.NativeFileWatcherImpl - Watcher terminated with exit code 3 \n",
      "2022-01-15 20:03:00,985 [  29923]   WARN - pl.local.NativeFileWatcherImpl - table error: collision at 2 (new /home/student/php_project/php_2021_przeprowadzanie_zbiorek_pienieznych_online/.env/home/cache/JetBrains/PhpStorm2021.2/javascript/typings/lodash/4.14.178, existing /home/student/.cache/JetBrains/PhpStorm2021.2/javascript/typings/lodash/4.14.178) \n",
      "2022-01-15 20:03:01,027 [  29965]   WARN - pl.local.NativeFileWatcherImpl - Watcher terminated with exit code 3 \n",
      "2022-01-15 20:03:01,027 [  29965]   WARN - api.vfs.impl.local.FileWatcher - File watcher failed repeatedly and has been disabled \n",
      "2022-01-15 20:03:01,199 [  30137]   WARN - ctionSystem.impl.ActionUpdater - 1009 ms to expand group child CWMTelephonyGroup \n",
      "2022-01-15 20:03:01,199 [  30137]   WARN - ctionSystem.impl.ActionUpdater - 1012 ms to expand group child CodeWithMeNavbarGroup \n",
      "2022-01-15 20:03:01,377 [  30315]   WARN - com.intellij.util.xmlb.Binding - no accessors for com.jetbrains.php.testFramework.PhpTestFrameworkType \n",
      "2022-01-15 20:03:01,641 [  30579]  ERROR - terminal.emulator.JediEmulator - Unhandled Control sequence\n",
      "parsed                        :ESC[?2004h\n",
      "bytes read                    :ESC[ \n",
      "2022-01-15 20:03:02,820 [  31758]   WARN - ctionSystem.impl.ActionUpdater - 1350 ms to expand group child TabList \n",
      "2022-01-15 20:03:02,821 [  31759]   WARN - ctionSystem.impl.ActionUpdater - 1350 ms to expand group child TabList \n",
      "2022-01-15 20:03:44,892 [  73830]  ERROR - terminal.emulator.JediEmulator - Unhandled Control sequence\n",
      "parsed                        :ESC[?2004l\n",
      "bytes read                    :ESC[ \n",
      "2022-01-15 20:29:12,064 [1601002]   WARN - ctionSystem.impl.ActionUpdater - Slow (292 ms) `com.intellij.openapi.wm.impl.ToolWindowHeader$1#update`. Consider speeding it up and/or implementing UpdateInBackground. \n",
      "2022-01-15 20:52:42,666 [3011604]   WARN -    #com.jetbrains.php.PhpIndex - getBySignature recursion hit level 50 @ <<<#M#Vattributes.exceptProps>>> \n",
      "2022-01-15 20:52:42,666 [3011604]   WARN -    #com.jetbrains.php.PhpIndex - getBySignature recursion hit level 50 @ <<<#π(#M#Vattributes.exceptProps)(#D\\false[])>>> \n",
      "2022-01-15 20:52:42,666 [3011604]   WARN -    #com.jetbrains.php.PhpIndex - getBySignature recursion hit level 50 @ <<<#π(#M#Vattributes.exceptProps)(\\string[])>>> \n",
      "2022-01-15 20:52:42,814 [3011752]   WARN -    #com.jetbrains.php.PhpIndex - getBySignature recursion hit level 50 @ <<<#M#Vattributes.exceptProps>>> \n",
      "2022-01-15 20:52:42,816 [3011754]   WARN -    #com.jetbrains.php.PhpIndex - getBySignature recursion hit level 50 @ <<<#π(#M#Vattributes.exceptProps)(#D\\false[])>>> \n",
      "2022-01-15 20:52:42,816 [3011754]   WARN -    #com.jetbrains.php.PhpIndex - getBySignature recursion hit level 50 @ <<<#π(#M#Vattributes.exceptProps)(\\string[])>>> \n",
      "2022-01-15 20:52:42,909 [3011847]   WARN -    #com.jetbrains.php.PhpIndex - getBySignature recursion hit level 50 @ <<<#M#Vattributes.exceptProps>>> \n",
      "2022-01-15 20:52:42,910 [3011848]   WARN -    #com.jetbrains.php.PhpIndex - getBySignature recursion hit level 50 @ <<<#π(#M#Vattributes.exceptProps)(#D\\false[])>>> \n",
      "2022-01-15 20:52:42,910 [3011848]   WARN -    #com.jetbrains.php.PhpIndex - getBySignature recursion hit level 50 @ <<<#π(#M#Vattributes.exceptProps)(\\string[])>>> \n",
      "2022-01-15 21:08:34,326 [3963264]   WARN - api.actionSystem.ex.ActionUtil - Can not find action by id CompileDirty \n"
     ]
    },
    {
     "name": "stdout",
     "output_type": "stream",
     "text": [
      "2022-01-15 21:08:39,042 [3967980]  ERROR - plication.TransactionGuardImpl - Write-unsafe context! Model changes are allowed from write-safe contexts only. Please ensure you're using invokeLater/invokeAndWait with a correct modality state (not \"any\"). See TransactionGuard documentation for details.\n",
      "  current modality=ModalityState.NON_MODAL \n",
      "java.lang.Throwable: Write-unsafe context! Model changes are allowed from write-safe contexts only. Please ensure you're using invokeLater/invokeAndWait with a correct modality state (not \"any\"). See TransactionGuard documentation for details.\n",
      "  current modality=ModalityState.NON_MODAL\n",
      "\tat com.intellij.openapi.diagnostic.Logger.error(Logger.java:182)\n",
      "\tat com.intellij.openapi.application.TransactionGuardImpl.assertWriteActionAllowed(TransactionGuardImpl.java:140)\n",
      "\tat com.intellij.psi.impl.PsiDocumentManagerBase.commitAllDocuments(PsiDocumentManagerBase.java:199)\n",
      "\tat com.intellij.codeInsight.intention.impl.ShowIntentionActionsHandler.chooseActionAndInvoke(ShowIntentionActionsHandler.java:233)\n",
      "\tat com.intellij.codeInsight.intention.impl.IntentionListStep.chooseActionAndInvoke(IntentionListStep.java:134)\n",
      "\tat com.intellij.analysis.problemsView.toolWindow.ShowQuickFixesAction$actionPerformed$1.access$chooseActionAndInvoke$s-1623866647(ShowQuickFixesAction.kt:88)\n",
      "\tat com.intellij.analysis.problemsView.toolWindow.ShowQuickFixesAction$actionPerformed$1$chooseActionAndInvoke$1$1.run(ShowQuickFixesAction.kt:95)\n",
      "\tat com.intellij.ide.IdeEventQueue.onFocusEvent(IdeEventQueue.java:559)\n",
      "\tat com.intellij.ide.IdeEventQueue.lambda$dispatchEvent$8(IdeEventQueue.java:478)\n",
      "\tat com.intellij.openapi.application.impl.ApplicationImpl.runIntendedWriteActionOnCurrentThread(ApplicationImpl.java:794)\n",
      "\tat com.intellij.ide.IdeEventQueue.dispatchEvent(IdeEventQueue.java:494)\n",
      "\tat java.desktop/java.awt.EventDispatchThread.pumpOneEventForFilters(EventDispatchThread.java:203)\n",
      "\tat java.desktop/java.awt.EventDispatchThread.pumpEventsForFilter(EventDispatchThread.java:124)\n",
      "\tat java.desktop/java.awt.EventDispatchThread.pumpEventsForHierarchy(EventDispatchThread.java:113)\n",
      "\tat java.desktop/java.awt.EventDispatchThread.pumpEvents(EventDispatchThread.java:109)\n",
      "\tat java.desktop/java.awt.EventDispatchThread.pumpEvents(EventDispatchThread.java:101)\n",
      "\tat java.desktop/java.awt.EventDispatchThread.run(EventDispatchThread.java:90)\n",
      "2022-01-15 21:08:39,052 [3967990]  ERROR - plication.TransactionGuardImpl - PhpStorm 2021.2.1  Build #PS-212.5080.71 \n",
      "2022-01-15 21:08:39,060 [3967998]  ERROR - plication.TransactionGuardImpl - JDK: 11.0.11; VM: OpenJDK 64-Bit Server VM; Vendor: JetBrains s.r.o. \n",
      "2022-01-15 21:08:39,060 [3967998]  ERROR - plication.TransactionGuardImpl - OS: Linux \n",
      "2022-01-15 21:08:39,061 [3967999]  ERROR - plication.TransactionGuardImpl - Last Action: ProblemsView.QuickFixes \n",
      "2022-01-15 21:18:35,039 [4563977]   WARN - ctionSystem.impl.ActionUpdater - Slow (149 ms) `com.intellij.ide.fileTemplates.actions.CreateFromTemplateGroup#update`. Consider speeding it up and/or implementing UpdateInBackground. \n"
     ]
    }
   ],
   "source": [
    "! phpstorm project"
   ]
  },
  {
   "cell_type": "markdown",
   "metadata": {},
   "source": [
    "Stop database:"
   ]
  },
  {
   "cell_type": "code",
   "execution_count": null,
   "metadata": {},
   "outputs": [],
   "source": [
    "! sudo docker container stop mysql"
   ]
  },
  {
   "cell_type": "code",
   "execution_count": null,
   "metadata": {},
   "outputs": [],
   "source": []
  }
 ],
 "metadata": {
  "kernelspec": {
   "display_name": "Python 3 (ipykernel)",
   "language": "python",
   "name": "python3"
  },
  "language_info": {
   "codemirror_mode": {
    "name": "ipython",
    "version": 3
   },
   "file_extension": ".py",
   "mimetype": "text/x-python",
   "name": "python",
   "nbconvert_exporter": "python",
   "pygments_lexer": "ipython3",
   "version": "3.9.5"
  }
 },
 "nbformat": 4,
 "nbformat_minor": 4
}
