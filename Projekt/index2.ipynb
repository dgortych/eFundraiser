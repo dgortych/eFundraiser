{
 "cells": [
  {
   "cell_type": "markdown",
   "metadata": {},
   "source": [
    "# PHP 2021"
   ]
  },
  {
   "cell_type": "markdown",
   "metadata": {},
   "source": [
    "## Projekt"
   ]
  },
  {
   "cell_type": "code",
   "execution_count": 9,
   "metadata": {},
   "outputs": [
    {
     "name": "stdout",
     "output_type": "stream",
     "text": [
      "f6ce67e3bea42d0c14d77cbb909adfeefd64113a9888cd44e6a8b881d2fb8436\n",
      "Done.\n",
      "/home/student/To_Ten_Projekt/php_2021_przeprowadzanie_zbiorek_pienieznych_online/Projekt/project\n",
      "\u001b[32mInstalling dependencies from lock file (including require-dev)\u001b[39m\n",
      "\u001b[32mVerifying lock file contents can be installed on current platform.\u001b[39m\n",
      "Nothing to install, update or remove\n",
      "\u001b[30;43mPackage swiftmailer/swiftmailer is abandoned, you should avoid using it. Use symfony/mailer instead.\u001b[39;49m\n",
      "\u001b[32mGenerating optimized autoload files\u001b[39m\n",
      "> Illuminate\\Foundation\\ComposerScripts::postAutoloadDump\n",
      "> @php artisan package:discover --ansi\n",
      "Discovered Package: \u001b[32mfacade/ignition\u001b[39m\n",
      "Discovered Package: \u001b[32mfruitcake/laravel-cors\u001b[39m\n",
      "Discovered Package: \u001b[32mlaravel/breeze\u001b[39m\n",
      "Discovered Package: \u001b[32mlaravel/sail\u001b[39m\n",
      "Discovered Package: \u001b[32mlaravel/sanctum\u001b[39m\n",
      "Discovered Package: \u001b[32mlaravel/tinker\u001b[39m\n",
      "Discovered Package: \u001b[32mnesbot/carbon\u001b[39m\n",
      "Discovered Package: \u001b[32mnunomaduro/collision\u001b[39m\n",
      "Discovered Package: \u001b[32mspatie/laravel-markdown\u001b[39m\n",
      "\u001b[32mPackage manifest generated successfully.\u001b[39m\n",
      "\u001b[32m85 packages you are using are looking for funding.\u001b[39m\n",
      "\u001b[32mUse the `composer fund` command to find out more!\u001b[39m\n",
      "\u001b[32mApplication key set successfully.\u001b[39m\n",
      "\u001b[32mDropped all tables successfully.\u001b[39m\n",
      "\u001b[32mMigration table created successfully.\u001b[39m\n",
      "\u001b[33mMigrating:\u001b[39m 2014_10_12_000000_create_users_table\n",
      "\u001b[32mMigrated:\u001b[39m  2014_10_12_000000_create_users_table (50.35ms)\n",
      "\u001b[33mMigrating:\u001b[39m 2014_10_12_100000_create_password_resets_table\n",
      "\u001b[32mMigrated:\u001b[39m  2014_10_12_100000_create_password_resets_table (47.48ms)\n",
      "\u001b[33mMigrating:\u001b[39m 2019_08_19_000000_create_failed_jobs_table\n",
      "\u001b[32mMigrated:\u001b[39m  2019_08_19_000000_create_failed_jobs_table (51.60ms)\n",
      "\u001b[33mMigrating:\u001b[39m 2019_12_14_000001_create_personal_access_tokens_table\n",
      "\u001b[32mMigrated:\u001b[39m  2019_12_14_000001_create_personal_access_tokens_table (82.82ms)\n",
      "\u001b[33mMigrating:\u001b[39m 2022_01_09_132531_create_categories_table\n",
      "\u001b[32mMigrated:\u001b[39m  2022_01_09_132531_create_categories_table (34.33ms)\n",
      "\u001b[33mMigrating:\u001b[39m 2022_01_09_132734_create_fundraisers_table\n",
      "\u001b[32mMigrated:\u001b[39m  2022_01_09_132734_create_fundraisers_table (204.92ms)\n",
      "\u001b[33mMigrating:\u001b[39m 2022_01_09_132745_create_donations_table\n",
      "\u001b[32mMigrated:\u001b[39m  2022_01_09_132745_create_donations_table (232.23ms)\n",
      "\u001b[33mSeeding:\u001b[39m Database\\Seeders\\UserSeeder\n",
      "\u001b[32mSeeded:\u001b[39m  Database\\Seeders\\UserSeeder (368.82ms)\n",
      "\u001b[33mSeeding:\u001b[39m Database\\Seeders\\CategorySeeder\n",
      "\u001b[32mSeeded:\u001b[39m  Database\\Seeders\\CategorySeeder (37.57ms)\n",
      "\u001b[33mSeeding:\u001b[39m Database\\Seeders\\FundraiserSeeder\n",
      "\u001b[32mSeeded:\u001b[39m  Database\\Seeders\\FundraiserSeeder (14.76ms)\n",
      "\u001b[33mSeeding:\u001b[39m Database\\Seeders\\DonationSeeder\n",
      "\u001b[32mSeeded:\u001b[39m  Database\\Seeders\\DonationSeeder (3.69ms)\n",
      "\u001b[32mDatabase seeding completed successfully.\u001b[39m\n",
      "mysqldump: [Warning] Using a password on the command line interface can be insecure.\n",
      "Starting Laravel development server: http://127.0.0.1:8888\n",
      "Codeception PHP Testing Framework v4.1.22\n",
      "Powered by PHPUnit 9.5.10 by Sebastian Bergmann and contributors.\n",
      "[Mon Jan 10 16:12:59 2022] PHP 8.0.10 Development Server (http://127.0.0.1:8888) started\n",
      "\n",
      "\u001b[1mAcceptance Tests (2) \u001b[22m-----------------------------------------------------------\n",
      "- \u001b[35;1mLoginCept:\u001b[39;22m Login with existing user[Mon Jan 10 16:13:01 2022] 127.0.0.1:37510 Accepted\n",
      "\u001b[32;1m✔\u001b[39;22m \u001b[35;1mLoginCept:\u001b[39;22m Login with existing user \u001b[32m(0.59s)\u001b[39m\n",
      "- \u001b[35;1mXMarkdownCept:\u001b[39;22m Check x-markdown[Mon Jan 10 16:13:01 2022] 127.0.0.1:37510 Closing\n",
      "[Mon Jan 10 16:13:01 2022] 127.0.0.1:37514 Accepted\n",
      "[Mon Jan 10 16:13:01 2022] 127.0.0.1:37514 Closing\n",
      "[Mon Jan 10 16:13:01 2022] 127.0.0.1:37518 Accepted\n",
      "[Mon Jan 10 16:13:01 2022] 127.0.0.1:37518 Closing\n",
      "[Mon Jan 10 16:13:01 2022] 127.0.0.1:37524 Accepted\n",
      "[Mon Jan 10 16:13:01 2022] 127.0.0.1:37524 Closing\n",
      "[Mon Jan 10 16:13:02 2022] 127.0.0.1:37530 Accepted\n",
      "[Mon Jan 10 16:13:02 2022] 127.0.0.1:37530 Closing\n",
      "[Mon Jan 10 16:13:02 2022] 127.0.0.1:37534 Accepted\n",
      "[Mon Jan 10 16:13:02 2022] 127.0.0.1:37534 Closing\n",
      "[Mon Jan 10 16:13:02 2022] 127.0.0.1:37538 Accepted\n",
      "\u001b[31;1m✖\u001b[39;22m \u001b[35;1mXMarkdownCept:\u001b[39;22m Login with existing user \u001b[32m(0.44s)\u001b[39m\n",
      "--------------------------------------------------------------------------------\n",
      "\u001b[33m6x DEPRECATION: \u001b[39m\u001b[1mSince symfony/dom-crawler 5.3: The Symfony\\Component\\DomCrawler\\Crawler::parents() method is deprecated, use ancestors() instead.\u001b[22m\u001b[33m \u001b[39m\u001b[32m/home/student/To_Ten_Projekt/php_2021_przeprowadzanie_zbiorek_pienieznych_online/Projekt/project/vendor/symfony/deprecation-contracts/function.php:25\u001b[39m\n",
      "\n",
      "\n",
      "Time: 00:02.365, Memory: 14.00 MB\n",
      "\n",
      "There was 1 failure:\n",
      "\n",
      "---------\n",
      "1) \u001b[35;1mXMarkdownCept:\u001b[39;22m Login with existing user\n",
      "\u001b[37;41;1m Test \u001b[39;49;22m tests_codeception/acceptance/XMarkdownCept.php\n",
      "\u001b[37;41;1m Step \u001b[39;49;22m See \"pieskow\",\"strong\"\n",
      "\u001b[37;41;1m Fail \u001b[39;49;22m Failed asserting that any element by 'strong' on page /fundraisers \n",
      "+ <strong>piesków</strong>\n",
      "contains text 'pieskow'\n",
      "\u001b[33m\n",
      "Scenario Steps:\n",
      "\u001b[39m\n",
      "\u001b[1m 10. $I->see(\"pieskow\",\"strong\")\u001b[22m at \u001b[32mtests_codeception/acceptance/XMarkdownCept.php:25\u001b[39m\n",
      " 9. $I->amOnPage(\"/fundraisers\") at \u001b[32mtests_codeception/acceptance/XMarkdownCept.php:23\u001b[39m\n",
      " 8. $I->see(\"You're logged in!\") at \u001b[32mtests_codeception/acceptance/XMarkdownCept.php:21\u001b[39m\n",
      " 7. $I->see(\"John Doe\") at \u001b[32mtests_codeception/acceptance/XMarkdownCept.php:20\u001b[39m\n",
      " 6. $I->seeCurrentUrlEquals(\"/dashboard\") at \u001b[32mtests_codeception/acceptance/XMarkdownCept.php:18\u001b[39m\n",
      " 5. $I->click(\"Log in\") at \u001b[32mtests_codeception/acceptance/XMarkdownCept.php:16\u001b[39m\n",
      "\n",
      "\u001b[33mArtifacts:\u001b[39m\n",
      "\n",
      "Html: \u001b[36m/home/student/To_Ten_Projekt/php_2021_przeprowadzanie_zbiorek_pienieznych_online/Projekt/project/tests_codeception/_output/XMarkdownCept.fail.html\u001b[39m\n",
      "Response: \u001b[36m/home/student/To_Ten_Projekt/php_2021_przeprowadzanie_zbiorek_pienieznych_online/Projekt/project/tests_codeception/_output/XMarkdownCept.fail.html\u001b[39m\n",
      "\n",
      "\u001b[37;41mFAILURES!\u001b[0m\n",
      "\u001b[37;41mTests: 2\u001b[0m\u001b[37;41m, Assertions: 9\u001b[0m\u001b[37;41m, Failures: 1\u001b[0m\u001b[37;41m.\u001b[0m\n",
      "[Mon Jan 10 16:13:02 2022] 127.0.0.1:37538 Closing\n",
      "[Mon Jan 10 16:13:02 2022] 127.0.0.1:37544 Accepted\n",
      "[Mon Jan 10 16:13:02 2022] 127.0.0.1:37544 Closing\n",
      "[Mon Jan 10 16:13:02 2022] 127.0.0.1:37550 Accepted\n",
      "[Mon Jan 10 16:13:02 2022] 127.0.0.1:37550 Closing\n"
     ]
    }
   ],
   "source": [
    "! sudo docker run --name=mysql --net=host --rm --env MYSQL_ROOT_PASSWORD=root123 --env MYSQL_ROOT_HOST=% --env MYSQL_DATABASE=test --env MYSQL_USER=test --env MYSQL_PASSWORD=test123 -d mysql/mysql-server:8.0\n",
    "    \n",
    "! while ! timeout 1 bash -c \"echo > /dev/tcp/localhost/3306\" 2> /dev/null; do sleep 1; done; echo \"Done.\";   \n",
    "\n",
    "%cd project\n",
    "\n",
    "! composer install\n",
    "\n",
    "! cp .env.example .env\n",
    "\n",
    "! php artisan key:generate\n",
    "    \n",
    "! php artisan migrate:fresh\n",
    "    \n",
    "! php artisan db:seed\n",
    "    \n",
    "! mysqldump -h127.0.0.1 -u root --password=root123 test > tests_codeception/_data/dump.sql\n",
    "\n",
    "import subprocess\n",
    "artisanServe = subprocess.Popen(['php', 'artisan', 'serve', '--port', '8888'])\n",
    "\n",
    "! vendor/bin/codecept run"
   ]
  },
  {
   "cell_type": "markdown",
   "metadata": {},
   "source": [
    "Edit the code:"
   ]
  },
  {
   "cell_type": "markdown",
   "metadata": {},
   "source": [
    "You can test your solution using included tests:"
   ]
  },
  {
   "cell_type": "code",
   "execution_count": 10,
   "metadata": {},
   "outputs": [
    {
     "name": "stdout",
     "output_type": "stream",
     "text": [
      "/home/student/To_Ten_Projekt/php_2021_przeprowadzanie_zbiorek_pienieznych_online/Projekt\n"
     ]
    }
   ],
   "source": [
    "! killall php php8.0\n",
    "\n",
    "%cd .."
   ]
  },
  {
   "cell_type": "code",
   "execution_count": null,
   "metadata": {},
   "outputs": [
    {
     "name": "stdout",
     "output_type": "stream",
     "text": [
      "\n",
      "(java:2922): dbind-\u001b[1;33mWARNING\u001b[0m **: \u001b[34m16:13:49.853\u001b[0m: Couldn't connect to accessibility bus: Failed to connect to socket /tmp/dbus-295wNVwLGu: No such file or directory\n",
      "2022-01-10 16:13:56,785 [   7274]   WARN - l.NotificationGroupManagerImpl - Notification group CodeWithMe is already registered (group=com.intellij.notification.NotificationGroup@5ddea849). Plugin descriptor: PluginDescriptor(name=Code With Me, id=com.jetbrains.codeWithMe, descriptorPath=plugin.xml, path=/opt/PhpStorm-212.5080.71/plugins/cwm-plugin, version=212.5080.71, package=null) \n",
      "[JetBrains Runtime] Detected slow X11, switched off alpha compositing of images. Control with -Dremote.x11.workaround={true|false|auto}.\n",
      "2022-01-10 16:14:10,605 [  21094]   WARN - pl.local.NativeFileWatcherImpl - table error: collision at 3673 (new /home/student/To_Ten_Projekt/php_2021_przeprowadzanie_zbiorek_pienieznych_online/.env/home/cache/JetBrains/PhpStorm2021.2/javascript/typings/lodash/4.14.178, existing /home/student/.cache/JetBrains/PhpStorm2021.2/javascript/typings/lodash/4.14.178) \n",
      "2022-01-10 16:14:10,681 [  21170]   WARN - pl.local.NativeFileWatcherImpl - Watcher terminated with exit code 3 \n",
      "2022-01-10 16:14:10,903 [  21392]   WARN - ctionSystem.impl.ActionUpdater - 1696 ms to expand group child $Undo \n",
      "2022-01-10 16:14:10,964 [  21453]   WARN - pl.local.NativeFileWatcherImpl - table error: collision at 2 (new /home/student/To_Ten_Projekt/php_2021_przeprowadzanie_zbiorek_pienieznych_online/.env/home/cache/JetBrains/PhpStorm2021.2/javascript/typings/lodash/4.14.178, existing /home/student/.cache/JetBrains/PhpStorm2021.2/javascript/typings/lodash/4.14.178) \n",
      "2022-01-10 16:14:11,014 [  21503]   WARN - pl.local.NativeFileWatcherImpl - Watcher terminated with exit code 3 \n",
      "2022-01-10 16:14:11,271 [  21760]   WARN - ctionSystem.impl.ActionUpdater - 2174 ms to expand group child NewDirectoryProject \n",
      "2022-01-10 16:14:11,291 [  21780]   WARN - ctionSystem.impl.ActionUpdater - 2202 ms to expand group child NewProjectOrModuleGroup \n",
      "2022-01-10 16:14:11,449 [  21938]   WARN - pl.local.NativeFileWatcherImpl - table error: collision at 2 (new /home/student/To_Ten_Projekt/php_2021_przeprowadzanie_zbiorek_pienieznych_online/.env/home/cache/JetBrains/PhpStorm2021.2/javascript/typings/lodash/4.14.178, existing /home/student/.cache/JetBrains/PhpStorm2021.2/javascript/typings/lodash/4.14.178) \n",
      "2022-01-10 16:14:11,466 [  21955]   WARN - pl.local.NativeFileWatcherImpl - Watcher terminated with exit code 3 \n",
      "2022-01-10 16:14:11,773 [  22262]   WARN - pl.local.NativeFileWatcherImpl - table error: collision at 2 (new /home/student/To_Ten_Projekt/php_2021_przeprowadzanie_zbiorek_pienieznych_online/.env/home/cache/JetBrains/PhpStorm2021.2/javascript/typings/lodash/4.14.178, existing /home/student/.cache/JetBrains/PhpStorm2021.2/javascript/typings/lodash/4.14.178) \n",
      "2022-01-10 16:14:11,797 [  22286]   WARN - pl.local.NativeFileWatcherImpl - Watcher terminated with exit code 3 \n",
      "2022-01-10 16:14:11,913 [  22402]   WARN - ctionSystem.impl.ActionUpdater - 2831 ms to expand group child PlatformOpenProjectGroup \n",
      "2022-01-10 16:14:12,079 [  22568]   WARN - pl.local.NativeFileWatcherImpl - table error: collision at 2 (new /home/student/To_Ten_Projekt/php_2021_przeprowadzanie_zbiorek_pienieznych_online/.env/home/cache/JetBrains/PhpStorm2021.2/javascript/typings/lodash/4.14.178, existing /home/student/.cache/JetBrains/PhpStorm2021.2/javascript/typings/lodash/4.14.178) \n",
      "2022-01-10 16:14:12,158 [  22647]   WARN - pl.local.NativeFileWatcherImpl - Watcher terminated with exit code 3 \n",
      "2022-01-10 16:14:12,226 [  22715]   WARN - ctionSystem.impl.ActionUpdater - 1322 ms to expand group child $Redo \n",
      "2022-01-10 16:14:12,227 [  22716]   WARN - ctionSystem.impl.ActionUpdater - 3195 ms to expand group child FileOpenGroup \n",
      "2022-01-10 16:14:12,478 [  22967]   WARN - pl.local.NativeFileWatcherImpl - table error: collision at 2 (new /home/student/To_Ten_Projekt/php_2021_przeprowadzanie_zbiorek_pienieznych_online/.env/home/cache/JetBrains/PhpStorm2021.2/javascript/typings/lodash/4.14.178, existing /home/student/.cache/JetBrains/PhpStorm2021.2/javascript/typings/lodash/4.14.178) \n",
      "2022-01-10 16:14:12,505 [  22994]   WARN - pl.local.NativeFileWatcherImpl - Watcher terminated with exit code 3 \n",
      "2022-01-10 16:14:12,551 [  23040]  ERROR - terminal.emulator.JediEmulator - Unhandled Control sequence\n",
      "parsed                        :ESC[?2004h\n",
      "bytes read                    :ESC[ \n",
      "2022-01-10 16:14:12,792 [  23281]   WARN - pl.local.NativeFileWatcherImpl - table error: collision at 2 (new /home/student/To_Ten_Projekt/php_2021_przeprowadzanie_zbiorek_pienieznych_online/.env/home/cache/JetBrains/PhpStorm2021.2/javascript/typings/lodash/4.14.178, existing /home/student/.cache/JetBrains/PhpStorm2021.2/javascript/typings/lodash/4.14.178) \n",
      "2022-01-10 16:14:12,833 [  23322]   WARN - pl.local.NativeFileWatcherImpl - Watcher terminated with exit code 3 \n",
      "2022-01-10 16:14:13,061 [  23550]   WARN - pl.local.NativeFileWatcherImpl - table error: collision at 2 (new /home/student/To_Ten_Projekt/php_2021_przeprowadzanie_zbiorek_pienieznych_online/.env/home/cache/JetBrains/PhpStorm2021.2/javascript/typings/lodash/4.14.178, existing /home/student/.cache/JetBrains/PhpStorm2021.2/javascript/typings/lodash/4.14.178) \n",
      "2022-01-10 16:14:13,100 [  23589]   WARN - pl.local.NativeFileWatcherImpl - Watcher terminated with exit code 3 \n",
      "2022-01-10 16:14:13,334 [  23823]   WARN - pl.local.NativeFileWatcherImpl - table error: collision at 2 (new /home/student/To_Ten_Projekt/php_2021_przeprowadzanie_zbiorek_pienieznych_online/.env/home/cache/JetBrains/PhpStorm2021.2/javascript/typings/lodash/4.14.178, existing /home/student/.cache/JetBrains/PhpStorm2021.2/javascript/typings/lodash/4.14.178) \n",
      "2022-01-10 16:14:13,372 [  23861]   WARN - pl.local.NativeFileWatcherImpl - Watcher terminated with exit code 3 \n",
      "2022-01-10 16:14:13,615 [  24104]   WARN - pl.local.NativeFileWatcherImpl - table error: collision at 2 (new /home/student/To_Ten_Projekt/php_2021_przeprowadzanie_zbiorek_pienieznych_online/.env/home/cache/JetBrains/PhpStorm2021.2/javascript/typings/lodash/4.14.178, existing /home/student/.cache/JetBrains/PhpStorm2021.2/javascript/typings/lodash/4.14.178) \n",
      "2022-01-10 16:14:13,638 [  24127]   WARN - pl.local.NativeFileWatcherImpl - Watcher terminated with exit code 3 \n",
      "2022-01-10 16:14:13,641 [  24130]   WARN - api.vfs.impl.local.FileWatcher - File watcher failed repeatedly and has been disabled \n",
      "2022-01-10 16:14:13,810 [  24299]   WARN - com.intellij.util.xmlb.Binding - no accessors for com.jetbrains.php.testFramework.PhpTestFrameworkType \n",
      "2022-01-10 16:14:13,866 [  24355]   WARN - ctionSystem.impl.ActionUpdater - 1491 ms to expand group child CWMTelephonyGroup \n",
      "2022-01-10 16:14:13,866 [  24355]   WARN - ctionSystem.impl.ActionUpdater - 1491 ms to expand group child CodeWithMeNavbarGroup \n",
      "2022-01-10 16:14:22,259 [  32748]   WARN - ctionSystem.impl.ActionUpdater - 1011 ms to expand group child EditorToggleUseSoftWrapsInPreview \n",
      "2022-01-10 16:14:27,167 [  37656]  ERROR - terminal.emulator.JediEmulator - Unhandled Control sequence\n",
      "parsed                        :ESC[?2004h\n",
      "bytes read                    :ESC[ \n",
      "2022-01-10 16:14:33,172 [  43661]  ERROR - terminal.emulator.JediEmulator - Unhandled Control sequence\n",
      "parsed                        :ESC[?2004l\n",
      "bytes read                    :ESC[ \n",
      "2022-01-10 16:14:35,026 [  45515]  ERROR - terminal.emulator.JediEmulator - Unhandled Control sequence\n",
      "parsed                        :ESC[?2004h\n",
      "bytes read                    :ESC[ \n",
      "2022-01-10 16:14:44,215 [  54704]  ERROR - terminal.emulator.JediEmulator - Unhandled Control sequence\n",
      "parsed                        :ESC[?2004l\n",
      "bytes read                    :ESC[ \n"
     ]
    }
   ],
   "source": [
    "! phpstorm project"
   ]
  },
  {
   "cell_type": "markdown",
   "metadata": {},
   "source": [
    "Stop database:"
   ]
  },
  {
   "cell_type": "code",
   "execution_count": 8,
   "metadata": {},
   "outputs": [
    {
     "name": "stdout",
     "output_type": "stream",
     "text": [
      "mysql\r\n"
     ]
    }
   ],
   "source": [
    "! sudo docker container stop mysql"
   ]
  },
  {
   "cell_type": "code",
   "execution_count": null,
   "metadata": {},
   "outputs": [],
   "source": []
  }
 ],
 "metadata": {
  "kernelspec": {
   "display_name": "Python 3 (ipykernel)",
   "language": "python",
   "name": "python3"
  },
  "language_info": {
   "codemirror_mode": {
    "name": "ipython",
    "version": 3
   },
   "file_extension": ".py",
   "mimetype": "text/x-python",
   "name": "python",
   "nbconvert_exporter": "python",
   "pygments_lexer": "ipython3",
   "version": "3.9.5"
  }
 },
 "nbformat": 4,
 "nbformat_minor": 4
}
